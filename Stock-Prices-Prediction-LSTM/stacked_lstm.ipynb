{
  "nbformat": 4,
  "nbformat_minor": 0,
  "metadata": {
    "orig_nbformat": 4,
    "language_info": {
      "name": "python",
      "version": "3.8.6",
      "mimetype": "text/x-python",
      "codemirror_mode": {
        "name": "ipython",
        "version": 3
      },
      "pygments_lexer": "ipython3",
      "nbconvert_exporter": "python",
      "file_extension": ".py"
    },
    "kernelspec": {
      "name": "python3",
      "display_name": "Python 3.8.6 64-bit ('base-ds-env': conda)"
    },
    "interpreter": {
      "hash": "a0a31d72b0085f5c980b68e1210f459b51e3b6afa7d30eb3c393753e3e66f30a"
    },
    "colab": {
      "name": "stacked_lstm.ipynb",
      "provenance": [],
      "include_colab_link": true
    },
    "accelerator": "GPU"
  },
  "cells": [
    {
      "cell_type": "markdown",
      "metadata": {
        "id": "view-in-github",
        "colab_type": "text"
      },
      "source": [
        "<a href=\"https://colab.research.google.com/github/peeush-the-developer/LGMVIP-DataScience/blob/main/Stock-Prices-Prediction-LSTM/stacked_lstm.ipynb\" target=\"_parent\"><img src=\"https://colab.research.google.com/assets/colab-badge.svg\" alt=\"Open In Colab\"/></a>"
      ]
    },
    {
      "cell_type": "markdown",
      "metadata": {
        "id": "1WgAdJ6v7sHB"
      },
      "source": [
        "# Stock market prices prediction and forecasting using Stacked LSTM\n",
        "\n",
        "We're given the dataset to analyse and produce a Stacked LSTM model that can forecast stock prices for TATA Global Beverage's.\n",
        "\n",
        "## Dataset\n",
        "[Dataset](https://raw.githubusercontent.com/mwitiderrick/stockprice/master/NSE-TATAGLOBAL.csv)\n",
        "\n",
        "Data is given from 2010-07-21 to 2018-09-28\n",
        "\n",
        "Columns in the dataset:\n",
        "- __Date:__ Date of the trade\n",
        "- __Open:__ What was the opening price for the share that day\n",
        "- __High:__ What is the highest price of the share that day\n",
        "- __Low:__ What is the lowest value of the stock\n",
        "- __Last:__ What is the last value of the stock\n",
        "- __Close:__ What was the closing price of the stock\n",
        "- __Total Trade Quantity:__ Total trade quantity of stock\n",
        "- __Turnover (Lacs):__ Total turnover for the company"
      ]
    },
    {
      "cell_type": "markdown",
      "metadata": {
        "id": "t96iJpaw7sHF"
      },
      "source": [
        "## Import libraries"
      ]
    },
    {
      "cell_type": "code",
      "metadata": {
        "id": "LT6wKqDH7sHG"
      },
      "source": [
        "import pandas as pd\n",
        "import numpy as np\n",
        "import matplotlib.pyplot as plt\n",
        "\n",
        "# For Normalization\n",
        "from sklearn.preprocessing import MinMaxScaler"
      ],
      "execution_count": 1,
      "outputs": []
    },
    {
      "cell_type": "markdown",
      "metadata": {
        "id": "RLgW2xi17sHG"
      },
      "source": [
        "## Load the dataset"
      ]
    },
    {
      "cell_type": "code",
      "metadata": {
        "id": "-y75cLzA7sHG",
        "outputId": "c5ce9986-b293-46ff-b036-90492e31069a",
        "colab": {
          "base_uri": "https://localhost:8080/",
          "height": 206
        }
      },
      "source": [
        "data = pd.read_csv('https://raw.githubusercontent.com/mwitiderrick/stockprice/master/NSE-TATAGLOBAL.csv')\n",
        "data.head()\n",
        "# training_set = dataset_train.iloc[:, 1:2].values"
      ],
      "execution_count": 2,
      "outputs": [
        {
          "output_type": "execute_result",
          "data": {
            "text/html": [
              "<div>\n",
              "<style scoped>\n",
              "    .dataframe tbody tr th:only-of-type {\n",
              "        vertical-align: middle;\n",
              "    }\n",
              "\n",
              "    .dataframe tbody tr th {\n",
              "        vertical-align: top;\n",
              "    }\n",
              "\n",
              "    .dataframe thead th {\n",
              "        text-align: right;\n",
              "    }\n",
              "</style>\n",
              "<table border=\"1\" class=\"dataframe\">\n",
              "  <thead>\n",
              "    <tr style=\"text-align: right;\">\n",
              "      <th></th>\n",
              "      <th>Date</th>\n",
              "      <th>Open</th>\n",
              "      <th>High</th>\n",
              "      <th>Low</th>\n",
              "      <th>Last</th>\n",
              "      <th>Close</th>\n",
              "      <th>Total Trade Quantity</th>\n",
              "      <th>Turnover (Lacs)</th>\n",
              "    </tr>\n",
              "  </thead>\n",
              "  <tbody>\n",
              "    <tr>\n",
              "      <th>0</th>\n",
              "      <td>2018-09-28</td>\n",
              "      <td>234.05</td>\n",
              "      <td>235.95</td>\n",
              "      <td>230.20</td>\n",
              "      <td>233.50</td>\n",
              "      <td>233.75</td>\n",
              "      <td>3069914</td>\n",
              "      <td>7162.35</td>\n",
              "    </tr>\n",
              "    <tr>\n",
              "      <th>1</th>\n",
              "      <td>2018-09-27</td>\n",
              "      <td>234.55</td>\n",
              "      <td>236.80</td>\n",
              "      <td>231.10</td>\n",
              "      <td>233.80</td>\n",
              "      <td>233.25</td>\n",
              "      <td>5082859</td>\n",
              "      <td>11859.95</td>\n",
              "    </tr>\n",
              "    <tr>\n",
              "      <th>2</th>\n",
              "      <td>2018-09-26</td>\n",
              "      <td>240.00</td>\n",
              "      <td>240.00</td>\n",
              "      <td>232.50</td>\n",
              "      <td>235.00</td>\n",
              "      <td>234.25</td>\n",
              "      <td>2240909</td>\n",
              "      <td>5248.60</td>\n",
              "    </tr>\n",
              "    <tr>\n",
              "      <th>3</th>\n",
              "      <td>2018-09-25</td>\n",
              "      <td>233.30</td>\n",
              "      <td>236.75</td>\n",
              "      <td>232.00</td>\n",
              "      <td>236.25</td>\n",
              "      <td>236.10</td>\n",
              "      <td>2349368</td>\n",
              "      <td>5503.90</td>\n",
              "    </tr>\n",
              "    <tr>\n",
              "      <th>4</th>\n",
              "      <td>2018-09-24</td>\n",
              "      <td>233.55</td>\n",
              "      <td>239.20</td>\n",
              "      <td>230.75</td>\n",
              "      <td>234.00</td>\n",
              "      <td>233.30</td>\n",
              "      <td>3423509</td>\n",
              "      <td>7999.55</td>\n",
              "    </tr>\n",
              "  </tbody>\n",
              "</table>\n",
              "</div>"
            ],
            "text/plain": [
              "         Date    Open    High  ...   Close  Total Trade Quantity  Turnover (Lacs)\n",
              "0  2018-09-28  234.05  235.95  ...  233.75               3069914          7162.35\n",
              "1  2018-09-27  234.55  236.80  ...  233.25               5082859         11859.95\n",
              "2  2018-09-26  240.00  240.00  ...  234.25               2240909          5248.60\n",
              "3  2018-09-25  233.30  236.75  ...  236.10               2349368          5503.90\n",
              "4  2018-09-24  233.55  239.20  ...  233.30               3423509          7999.55\n",
              "\n",
              "[5 rows x 8 columns]"
            ]
          },
          "metadata": {},
          "execution_count": 2
        }
      ]
    },
    {
      "cell_type": "code",
      "metadata": {
        "id": "1HKU6qr-7sHI",
        "outputId": "6738bcd9-0571-4ea3-96a9-3264d7925688",
        "colab": {
          "base_uri": "https://localhost:8080/"
        }
      },
      "source": [
        "data.info()"
      ],
      "execution_count": 3,
      "outputs": [
        {
          "output_type": "stream",
          "text": [
            "<class 'pandas.core.frame.DataFrame'>\n",
            "RangeIndex: 2035 entries, 0 to 2034\n",
            "Data columns (total 8 columns):\n",
            " #   Column                Non-Null Count  Dtype  \n",
            "---  ------                --------------  -----  \n",
            " 0   Date                  2035 non-null   object \n",
            " 1   Open                  2035 non-null   float64\n",
            " 2   High                  2035 non-null   float64\n",
            " 3   Low                   2035 non-null   float64\n",
            " 4   Last                  2035 non-null   float64\n",
            " 5   Close                 2035 non-null   float64\n",
            " 6   Total Trade Quantity  2035 non-null   int64  \n",
            " 7   Turnover (Lacs)       2035 non-null   float64\n",
            "dtypes: float64(6), int64(1), object(1)\n",
            "memory usage: 127.3+ KB\n"
          ],
          "name": "stdout"
        }
      ]
    },
    {
      "cell_type": "code",
      "metadata": {
        "id": "zN8430xh7sHK",
        "outputId": "0fbed715-86ee-4995-8db1-edc21db4f61a",
        "colab": {
          "base_uri": "https://localhost:8080/"
        }
      },
      "source": [
        "# Convert the Date into pandas DateTime format\n",
        "data['Date'] = pd.to_datetime(data['Date'])\n",
        "data.info()"
      ],
      "execution_count": 4,
      "outputs": [
        {
          "output_type": "stream",
          "text": [
            "<class 'pandas.core.frame.DataFrame'>\n",
            "RangeIndex: 2035 entries, 0 to 2034\n",
            "Data columns (total 8 columns):\n",
            " #   Column                Non-Null Count  Dtype         \n",
            "---  ------                --------------  -----         \n",
            " 0   Date                  2035 non-null   datetime64[ns]\n",
            " 1   Open                  2035 non-null   float64       \n",
            " 2   High                  2035 non-null   float64       \n",
            " 3   Low                   2035 non-null   float64       \n",
            " 4   Last                  2035 non-null   float64       \n",
            " 5   Close                 2035 non-null   float64       \n",
            " 6   Total Trade Quantity  2035 non-null   int64         \n",
            " 7   Turnover (Lacs)       2035 non-null   float64       \n",
            "dtypes: datetime64[ns](1), float64(6), int64(1)\n",
            "memory usage: 127.3 KB\n"
          ],
          "name": "stdout"
        }
      ]
    },
    {
      "cell_type": "code",
      "metadata": {
        "id": "td7S-BKm7sHK",
        "outputId": "ec3631d1-52ef-4bd8-fa4b-a4c7c9ae9515",
        "colab": {
          "base_uri": "https://localhost:8080/",
          "height": 300
        }
      },
      "source": [
        "data.describe()"
      ],
      "execution_count": 5,
      "outputs": [
        {
          "output_type": "execute_result",
          "data": {
            "text/html": [
              "<div>\n",
              "<style scoped>\n",
              "    .dataframe tbody tr th:only-of-type {\n",
              "        vertical-align: middle;\n",
              "    }\n",
              "\n",
              "    .dataframe tbody tr th {\n",
              "        vertical-align: top;\n",
              "    }\n",
              "\n",
              "    .dataframe thead th {\n",
              "        text-align: right;\n",
              "    }\n",
              "</style>\n",
              "<table border=\"1\" class=\"dataframe\">\n",
              "  <thead>\n",
              "    <tr style=\"text-align: right;\">\n",
              "      <th></th>\n",
              "      <th>Open</th>\n",
              "      <th>High</th>\n",
              "      <th>Low</th>\n",
              "      <th>Last</th>\n",
              "      <th>Close</th>\n",
              "      <th>Total Trade Quantity</th>\n",
              "      <th>Turnover (Lacs)</th>\n",
              "    </tr>\n",
              "  </thead>\n",
              "  <tbody>\n",
              "    <tr>\n",
              "      <th>count</th>\n",
              "      <td>2035.000000</td>\n",
              "      <td>2035.000000</td>\n",
              "      <td>2035.000000</td>\n",
              "      <td>2035.000000</td>\n",
              "      <td>2035.00000</td>\n",
              "      <td>2.035000e+03</td>\n",
              "      <td>2035.000000</td>\n",
              "    </tr>\n",
              "    <tr>\n",
              "      <th>mean</th>\n",
              "      <td>149.713735</td>\n",
              "      <td>151.992826</td>\n",
              "      <td>147.293931</td>\n",
              "      <td>149.474251</td>\n",
              "      <td>149.45027</td>\n",
              "      <td>2.335681e+06</td>\n",
              "      <td>3899.980565</td>\n",
              "    </tr>\n",
              "    <tr>\n",
              "      <th>std</th>\n",
              "      <td>48.664509</td>\n",
              "      <td>49.413109</td>\n",
              "      <td>47.931958</td>\n",
              "      <td>48.732570</td>\n",
              "      <td>48.71204</td>\n",
              "      <td>2.091778e+06</td>\n",
              "      <td>4570.767877</td>\n",
              "    </tr>\n",
              "    <tr>\n",
              "      <th>min</th>\n",
              "      <td>81.100000</td>\n",
              "      <td>82.800000</td>\n",
              "      <td>80.000000</td>\n",
              "      <td>81.000000</td>\n",
              "      <td>80.95000</td>\n",
              "      <td>3.961000e+04</td>\n",
              "      <td>37.040000</td>\n",
              "    </tr>\n",
              "    <tr>\n",
              "      <th>25%</th>\n",
              "      <td>120.025000</td>\n",
              "      <td>122.100000</td>\n",
              "      <td>118.300000</td>\n",
              "      <td>120.075000</td>\n",
              "      <td>120.05000</td>\n",
              "      <td>1.146444e+06</td>\n",
              "      <td>1427.460000</td>\n",
              "    </tr>\n",
              "    <tr>\n",
              "      <th>50%</th>\n",
              "      <td>141.500000</td>\n",
              "      <td>143.400000</td>\n",
              "      <td>139.600000</td>\n",
              "      <td>141.100000</td>\n",
              "      <td>141.25000</td>\n",
              "      <td>1.783456e+06</td>\n",
              "      <td>2512.030000</td>\n",
              "    </tr>\n",
              "    <tr>\n",
              "      <th>75%</th>\n",
              "      <td>157.175000</td>\n",
              "      <td>159.400000</td>\n",
              "      <td>155.150000</td>\n",
              "      <td>156.925000</td>\n",
              "      <td>156.90000</td>\n",
              "      <td>2.813594e+06</td>\n",
              "      <td>4539.015000</td>\n",
              "    </tr>\n",
              "    <tr>\n",
              "      <th>max</th>\n",
              "      <td>327.700000</td>\n",
              "      <td>328.750000</td>\n",
              "      <td>321.650000</td>\n",
              "      <td>325.950000</td>\n",
              "      <td>325.75000</td>\n",
              "      <td>2.919102e+07</td>\n",
              "      <td>55755.080000</td>\n",
              "    </tr>\n",
              "  </tbody>\n",
              "</table>\n",
              "</div>"
            ],
            "text/plain": [
              "              Open         High  ...  Total Trade Quantity  Turnover (Lacs)\n",
              "count  2035.000000  2035.000000  ...          2.035000e+03      2035.000000\n",
              "mean    149.713735   151.992826  ...          2.335681e+06      3899.980565\n",
              "std      48.664509    49.413109  ...          2.091778e+06      4570.767877\n",
              "min      81.100000    82.800000  ...          3.961000e+04        37.040000\n",
              "25%     120.025000   122.100000  ...          1.146444e+06      1427.460000\n",
              "50%     141.500000   143.400000  ...          1.783456e+06      2512.030000\n",
              "75%     157.175000   159.400000  ...          2.813594e+06      4539.015000\n",
              "max     327.700000   328.750000  ...          2.919102e+07     55755.080000\n",
              "\n",
              "[8 rows x 7 columns]"
            ]
          },
          "metadata": {},
          "execution_count": 5
        }
      ]
    },
    {
      "cell_type": "markdown",
      "metadata": {
        "id": "j81wZF217sHK"
      },
      "source": [
        "## Visualize the data for \"Open\" and \"High\" columns"
      ]
    },
    {
      "cell_type": "code",
      "metadata": {
        "id": "JXNyh6Ba7sHM",
        "outputId": "2d75053e-0882-4112-8102-4cf54fdf0527",
        "colab": {
          "base_uri": "https://localhost:8080/",
          "height": 419
        }
      },
      "source": [
        "# Plot \"Open\" prices w.r.t. Date\n",
        "plt.figure(figsize=(10, 6))\n",
        "plt.plot(data['Date'], data['Open'])\n",
        "# plt.plot(data['Date'], data['High'], 'go')\n",
        "plt.tick_params(rotation=45)\n",
        "plt.title('Open prices w.r.t. the Date')\n",
        "plt.xlabel('Date')\n",
        "plt.ylabel('Open')\n",
        "plt.show()"
      ],
      "execution_count": 6,
      "outputs": [
        {
          "output_type": "display_data",
          "data": {
            "image/png": "[encoded data removed]",
            "text/plain": [
              "<Figure size 720x432 with 1 Axes>"
            ]
          },
          "metadata": {
            "needs_background": "light"
          }
        }
      ]
    },
    {
      "cell_type": "markdown",
      "metadata": {
        "id": "zSxdYbAb7sHM"
      },
      "source": [
        "## Prepare the data\n",
        "\n",
        "From the given dataset, we select column \"Open\" as our training dataset."
      ]
    },
    {
      "cell_type": "code",
      "metadata": {
        "id": "9rDoNgJe7sHM",
        "outputId": "19e57b31-9093-4eb5-a6f0-cde4cfddfb3a",
        "colab": {
          "base_uri": "https://localhost:8080/"
        }
      },
      "source": [
        "# Training set for \"Open\" column\n",
        "training_set = data.iloc[:, 1:2].values\n",
        "# Check first 5 values\n",
        "training_set[:5]"
      ],
      "execution_count": 7,
      "outputs": [
        {
          "output_type": "execute_result",
          "data": {
            "text/plain": [
              "array([[234.05],\n",
              "       [234.55],\n",
              "       [240.  ],\n",
              "       [233.3 ],\n",
              "       [233.55]])"
            ]
          },
          "metadata": {},
          "execution_count": 7
        }
      ]
    },
    {
      "cell_type": "markdown",
      "metadata": {
        "id": "wENfVbHG7sHN"
      },
      "source": [
        "### Normalize the data\n",
        "\n",
        "For the neural network, we should scale the dataset before passing as the input."
      ]
    },
    {
      "cell_type": "code",
      "metadata": {
        "id": "4jdmWyiJ7sHN"
      },
      "source": [
        "scaler = MinMaxScaler(feature_range=(0,1))\n",
        "training_set_scaled = scaler.fit_transform(training_set)"
      ],
      "execution_count": 8,
      "outputs": []
    },
    {
      "cell_type": "markdown",
      "metadata": {
        "id": "tuy7-t7g8GqT"
      },
      "source": [
        "### Create 3D array from input data"
      ]
    },
    {
      "cell_type": "markdown",
      "metadata": {
        "id": "C1P1ZSHf7sHO"
      },
      "source": [
        "LSTM model requires the input in the form of a 3D array. \n",
        "\n",
        "Steps:\n",
        "1. Create data in 60 timesteps\n",
        "2. Convert into numpy array\n",
        "3. Convert the array into 3D array"
      ]
    },
    {
      "cell_type": "code",
      "metadata": {
        "id": "f1rS7hal7sHO"
      },
      "source": [
        "# 1. Create data in 60 timesteps\n",
        "X_train = []\n",
        "y_train = []\n",
        "for i in range(60, training_set_scaled.shape[0]):\n",
        "    X_train.append(training_set_scaled[i-60:i, 0]) # Take 60 timesteps into X_train\n",
        "    y_train.append(training_set_scaled[i, 0]) # Take 61st timestep into y_train\n",
        "\n",
        "# 2. Convert into numpy arrays\n",
        "X_train, y_train = np.array(X_train), np.array(y_train)\n",
        "\n",
        "# 3. Convert array into 3D array\n",
        "X_train = np.reshape(X_train, (X_train.shape[0], X_train.shape[1], 1))"
      ],
      "execution_count": 9,
      "outputs": []
    },
    {
      "cell_type": "code",
      "metadata": {
        "id": "CjKVZ9ca7sHO",
        "outputId": "18d8367a-ba93-441f-e422-b39e59cd3dd8",
        "colab": {
          "base_uri": "https://localhost:8080/"
        }
      },
      "source": [
        "X_train.shape"
      ],
      "execution_count": 10,
      "outputs": [
        {
          "output_type": "execute_result",
          "data": {
            "text/plain": [
              "(1975, 60, 1)"
            ]
          },
          "metadata": {},
          "execution_count": 10
        }
      ]
    },
    {
      "cell_type": "code",
      "metadata": {
        "id": "g2uZN-Hw7sHO",
        "outputId": "f77dfc23-1ddc-4001-87eb-acbbe41437e7",
        "colab": {
          "base_uri": "https://localhost:8080/"
        }
      },
      "source": [
        "y_train.shape"
      ],
      "execution_count": 11,
      "outputs": [
        {
          "output_type": "execute_result",
          "data": {
            "text/plain": [
              "(1975,)"
            ]
          },
          "metadata": {},
          "execution_count": 11
        }
      ]
    },
    {
      "cell_type": "markdown",
      "metadata": {
        "id": "-SewMwPn7sHQ"
      },
      "source": [
        "## Create a Stacked LSTM model"
      ]
    },
    {
      "cell_type": "code",
      "metadata": {
        "id": "uuXB6ikV7sHQ"
      },
      "source": [
        "from keras.models import Sequential # Initialize the model\n",
        "from keras.layers import LSTM       # Add LSTM layer\n",
        "from keras.layers import Dropout    # Add Dropout layer to prevent overfitting\n",
        "from keras.layers import Dense      # Add densely connected NN layer"
      ],
      "execution_count": 12,
      "outputs": []
    },
    {
      "cell_type": "markdown",
      "metadata": {
        "id": "OH3ElHBv8pVz"
      },
      "source": [
        "The LSTM layer is added with the following arguments:\n",
        "- 50 units is the dimensionality of the output space,\n",
        "- `return_sequences=True` is necessary for stacked LSTM layers so that the consequent LSTM layer has a 3D sequence input\n",
        "- `input_shape` is the shape of the training dataset.\n",
        "\n",
        "Dropout layer: 0.2 i.e. 20% of the neurons in the layers will be dropped.\n",
        "\n",
        "Add \"Dense layer\" which specifies the output as one unit.\n",
        "\n",
        "Finally, compile the model to be able to train with `Adam` optimizer and `mse` as the loss function.\n",
        "\n",
        "Run for 100 epochs and batch size of 32."
      ]
    },
    {
      "cell_type": "code",
      "metadata": {
        "id": "Qn-xbz8e7sHQ"
      },
      "source": [
        "# Initialize the model\n",
        "model = Sequential()\n",
        "# Layer 1 - LSTM\n",
        "model.add(LSTM(units=50, return_sequences=True, input_shape=(X_train.shape[1], 1)))\n",
        "# Layer 1 - Dropout\n",
        "model.add(Dropout(0.2))\n",
        "# Layer 2 - LSTM\n",
        "model.add(LSTM(units=50, return_sequences=True))\n",
        "# Layer 2 - Dropout\n",
        "model.add(Dropout(0.2))\n",
        "# Layer 3 - LSTM\n",
        "model.add(LSTM(units=50, return_sequences=True))\n",
        "# Layer 3 - Dropout\n",
        "model.add(Dropout(0.2))\n",
        "# Layer 4 - LSTM\n",
        "model.add(LSTM(units=50))\n",
        "# Layer 4 - Dropout\n",
        "model.add(Dropout(0.2))\n",
        "# Layer 5 - Dense\n",
        "model.add(Dense(units=1))\n",
        "\n",
        "# Compile the model\n",
        "model.compile(optimizer='adam', loss='mean_squared_error')"
      ],
      "execution_count": 13,
      "outputs": []
    },
    {
      "cell_type": "markdown",
      "metadata": {
        "id": "hoxsccdj-ujM"
      },
      "source": [
        "### Fit the Stacked LSTM model"
      ]
    },
    {
      "cell_type": "code",
      "metadata": {
        "id": "t-EGyXDz-jZ-",
        "outputId": "045d4ac8-c69d-42bb-d824-e606e75d5f7f",
        "colab": {
          "base_uri": "https://localhost:8080/"
        }
      },
      "source": [
        "# Fit the model\n",
        "model.fit(X_train, y_train, epochs=100, batch_size=32)"
      ],
      "execution_count": 14,
      "outputs": [
        {
          "output_type": "stream",
          "text": [
            "Epoch 1/100\n",
            "62/62 [==============================] - 7s 14ms/step - loss: 0.0110\n",
            "Epoch 2/100\n",
            "62/62 [==============================] - 1s 12ms/step - loss: 0.0031\n",
            "Epoch 3/100\n",
            "62/62 [==============================] - 1s 12ms/step - loss: 0.0033\n",
            "Epoch 4/100\n",
            "62/62 [==============================] - 1s 12ms/step - loss: 0.0024\n",
            "Epoch 5/100\n",
            "62/62 [==============================] - 1s 12ms/step - loss: 0.0025\n",
            "Epoch 6/100\n",
            "62/62 [==============================] - 1s 12ms/step - loss: 0.0022\n",
            "Epoch 7/100\n",
            "62/62 [==============================] - 1s 12ms/step - loss: 0.0024\n",
            "Epoch 8/100\n",
            "62/62 [==============================] - 1s 12ms/step - loss: 0.0020\n",
            "Epoch 9/100\n",
            "62/62 [==============================] - 1s 12ms/step - loss: 0.0018\n",
            "Epoch 10/100\n",
            "62/62 [==============================] - 1s 12ms/step - loss: 0.0019\n",
            "Epoch 11/100\n",
            "62/62 [==============================] - 1s 12ms/step - loss: 0.0019\n",
            "Epoch 12/100\n",
            "62/62 [==============================] - 1s 12ms/step - loss: 0.0018\n",
            "Epoch 13/100\n",
            "62/62 [==============================] - 1s 12ms/step - loss: 0.0018\n",
            "Epoch 14/100\n",
            "62/62 [==============================] - 1s 12ms/step - loss: 0.0014\n",
            "Epoch 15/100\n",
            "62/62 [==============================] - 1s 13ms/step - loss: 0.0016\n",
            "Epoch 16/100\n",
            "62/62 [==============================] - 1s 12ms/step - loss: 0.0014\n",
            "Epoch 17/100\n",
            "62/62 [==============================] - 1s 12ms/step - loss: 0.0016\n",
            "Epoch 18/100\n",
            "62/62 [==============================] - 1s 12ms/step - loss: 0.0014\n",
            "Epoch 19/100\n",
            "62/62 [==============================] - 1s 12ms/step - loss: 0.0015\n",
            "Epoch 20/100\n",
            "62/62 [==============================] - 1s 12ms/step - loss: 0.0014\n",
            "Epoch 21/100\n",
            "62/62 [==============================] - 1s 12ms/step - loss: 0.0015\n",
            "Epoch 22/100\n",
            "62/62 [==============================] - 1s 12ms/step - loss: 0.0011\n",
            "Epoch 23/100\n",
            "62/62 [==============================] - 1s 12ms/step - loss: 0.0014\n",
            "Epoch 24/100\n",
            "62/62 [==============================] - 1s 12ms/step - loss: 0.0013\n",
            "Epoch 25/100\n",
            "62/62 [==============================] - 1s 12ms/step - loss: 0.0013\n",
            "Epoch 26/100\n",
            "62/62 [==============================] - 1s 12ms/step - loss: 0.0011\n",
            "Epoch 27/100\n",
            "62/62 [==============================] - 1s 12ms/step - loss: 0.0011\n",
            "Epoch 28/100\n",
            "62/62 [==============================] - 1s 12ms/step - loss: 0.0013\n",
            "Epoch 29/100\n",
            "62/62 [==============================] - 1s 12ms/step - loss: 0.0011\n",
            "Epoch 30/100\n",
            "62/62 [==============================] - 1s 12ms/step - loss: 0.0011\n",
            "Epoch 31/100\n",
            "62/62 [==============================] - 1s 12ms/step - loss: 0.0011\n",
            "Epoch 32/100\n",
            "62/62 [==============================] - 1s 12ms/step - loss: 0.0011\n",
            "Epoch 33/100\n",
            "62/62 [==============================] - 1s 12ms/step - loss: 0.0011\n",
            "Epoch 34/100\n",
            "62/62 [==============================] - 1s 12ms/step - loss: 0.0011\n",
            "Epoch 35/100\n",
            "62/62 [==============================] - 1s 12ms/step - loss: 9.9604e-04\n",
            "Epoch 36/100\n",
            "62/62 [==============================] - 1s 12ms/step - loss: 0.0011\n",
            "Epoch 37/100\n",
            "62/62 [==============================] - 1s 12ms/step - loss: 0.0011\n",
            "Epoch 38/100\n",
            "62/62 [==============================] - 1s 12ms/step - loss: 8.9407e-04\n",
            "Epoch 39/100\n",
            "62/62 [==============================] - 1s 12ms/step - loss: 9.2781e-04\n",
            "Epoch 40/100\n",
            "62/62 [==============================] - 1s 12ms/step - loss: 8.3430e-04\n",
            "Epoch 41/100\n",
            "62/62 [==============================] - 1s 12ms/step - loss: 8.6083e-04\n",
            "Epoch 42/100\n",
            "62/62 [==============================] - 1s 12ms/step - loss: 8.5181e-04\n",
            "Epoch 43/100\n",
            "62/62 [==============================] - 1s 12ms/step - loss: 9.9350e-04\n",
            "Epoch 44/100\n",
            "62/62 [==============================] - 1s 12ms/step - loss: 9.8547e-04\n",
            "Epoch 45/100\n",
            "62/62 [==============================] - 1s 12ms/step - loss: 8.2352e-04\n",
            "Epoch 46/100\n",
            "62/62 [==============================] - 1s 14ms/step - loss: 7.7097e-04\n",
            "Epoch 47/100\n",
            "62/62 [==============================] - 1s 13ms/step - loss: 8.6984e-04\n",
            "Epoch 48/100\n",
            "62/62 [==============================] - 1s 12ms/step - loss: 9.0749e-04\n",
            "Epoch 49/100\n",
            "62/62 [==============================] - 1s 12ms/step - loss: 8.6086e-04\n",
            "Epoch 50/100\n",
            "62/62 [==============================] - 1s 12ms/step - loss: 9.1533e-04\n",
            "Epoch 51/100\n",
            "62/62 [==============================] - 1s 12ms/step - loss: 7.8841e-04\n",
            "Epoch 52/100\n",
            "62/62 [==============================] - 1s 12ms/step - loss: 8.8882e-04\n",
            "Epoch 53/100\n",
            "62/62 [==============================] - 1s 12ms/step - loss: 8.5080e-04\n",
            "Epoch 54/100\n",
            "62/62 [==============================] - 1s 12ms/step - loss: 7.5702e-04\n",
            "Epoch 55/100\n",
            "62/62 [==============================] - 1s 12ms/step - loss: 9.3928e-04\n",
            "Epoch 56/100\n",
            "62/62 [==============================] - 1s 12ms/step - loss: 8.5666e-04\n",
            "Epoch 57/100\n",
            "62/62 [==============================] - 1s 12ms/step - loss: 7.3407e-04\n",
            "Epoch 58/100\n",
            "62/62 [==============================] - 1s 12ms/step - loss: 7.2640e-04\n",
            "Epoch 59/100\n",
            "62/62 [==============================] - 1s 12ms/step - loss: 7.3772e-04\n",
            "Epoch 60/100\n",
            "62/62 [==============================] - 1s 13ms/step - loss: 7.4421e-04\n",
            "Epoch 61/100\n",
            "62/62 [==============================] - 1s 12ms/step - loss: 9.1448e-04\n",
            "Epoch 62/100\n",
            "62/62 [==============================] - 1s 12ms/step - loss: 6.8585e-04\n",
            "Epoch 63/100\n",
            "62/62 [==============================] - 1s 12ms/step - loss: 7.4919e-04\n",
            "Epoch 64/100\n",
            "62/62 [==============================] - 1s 12ms/step - loss: 7.1082e-04\n",
            "Epoch 65/100\n",
            "62/62 [==============================] - 1s 12ms/step - loss: 7.0330e-04\n",
            "Epoch 66/100\n",
            "62/62 [==============================] - 1s 12ms/step - loss: 7.7815e-04\n",
            "Epoch 67/100\n",
            "62/62 [==============================] - 1s 12ms/step - loss: 6.7928e-04\n",
            "Epoch 68/100\n",
            "62/62 [==============================] - 1s 12ms/step - loss: 6.8063e-04\n",
            "Epoch 69/100\n",
            "62/62 [==============================] - 1s 12ms/step - loss: 8.8098e-04\n",
            "Epoch 70/100\n",
            "62/62 [==============================] - 1s 12ms/step - loss: 7.0278e-04\n",
            "Epoch 71/100\n",
            "62/62 [==============================] - 1s 12ms/step - loss: 6.6624e-04\n",
            "Epoch 72/100\n",
            "62/62 [==============================] - 1s 12ms/step - loss: 6.2744e-04\n",
            "Epoch 73/100\n",
            "62/62 [==============================] - 1s 12ms/step - loss: 8.0298e-04\n",
            "Epoch 74/100\n",
            "62/62 [==============================] - 1s 13ms/step - loss: 6.7142e-04\n",
            "Epoch 75/100\n",
            "62/62 [==============================] - 1s 12ms/step - loss: 8.0354e-04\n",
            "Epoch 76/100\n",
            "62/62 [==============================] - 1s 12ms/step - loss: 7.3611e-04\n",
            "Epoch 77/100\n",
            "62/62 [==============================] - 1s 12ms/step - loss: 6.8048e-04\n",
            "Epoch 78/100\n",
            "62/62 [==============================] - 1s 12ms/step - loss: 6.4246e-04\n",
            "Epoch 79/100\n",
            "62/62 [==============================] - 1s 12ms/step - loss: 6.8027e-04\n",
            "Epoch 80/100\n",
            "62/62 [==============================] - 1s 12ms/step - loss: 6.3432e-04\n",
            "Epoch 81/100\n",
            "62/62 [==============================] - 1s 12ms/step - loss: 8.1753e-04\n",
            "Epoch 82/100\n",
            "62/62 [==============================] - 1s 13ms/step - loss: 7.1057e-04\n",
            "Epoch 83/100\n",
            "62/62 [==============================] - 1s 12ms/step - loss: 6.6691e-04\n",
            "Epoch 84/100\n",
            "62/62 [==============================] - 1s 12ms/step - loss: 6.6485e-04\n",
            "Epoch 85/100\n",
            "62/62 [==============================] - 1s 12ms/step - loss: 6.6627e-04\n",
            "Epoch 86/100\n",
            "62/62 [==============================] - 1s 12ms/step - loss: 6.9684e-04\n",
            "Epoch 87/100\n",
            "62/62 [==============================] - 1s 13ms/step - loss: 6.6947e-04\n",
            "Epoch 88/100\n",
            "62/62 [==============================] - 1s 12ms/step - loss: 6.2724e-04\n",
            "Epoch 89/100\n",
            "62/62 [==============================] - 1s 12ms/step - loss: 7.7133e-04\n",
            "Epoch 90/100\n",
            "62/62 [==============================] - 1s 12ms/step - loss: 7.1757e-04\n",
            "Epoch 91/100\n",
            "62/62 [==============================] - 1s 12ms/step - loss: 6.4989e-04\n",
            "Epoch 92/100\n",
            "62/62 [==============================] - 1s 12ms/step - loss: 6.9071e-04\n",
            "Epoch 93/100\n",
            "62/62 [==============================] - 1s 12ms/step - loss: 8.0303e-04\n",
            "Epoch 94/100\n",
            "62/62 [==============================] - 1s 12ms/step - loss: 6.1551e-04\n",
            "Epoch 95/100\n",
            "62/62 [==============================] - 1s 12ms/step - loss: 6.3546e-04\n",
            "Epoch 96/100\n",
            "62/62 [==============================] - 1s 12ms/step - loss: 6.8458e-04\n",
            "Epoch 97/100\n",
            "62/62 [==============================] - 1s 12ms/step - loss: 6.8243e-04\n",
            "Epoch 98/100\n",
            "62/62 [==============================] - 1s 12ms/step - loss: 6.6761e-04\n",
            "Epoch 99/100\n",
            "62/62 [==============================] - 1s 12ms/step - loss: 6.4565e-04\n",
            "Epoch 100/100\n",
            "62/62 [==============================] - 1s 12ms/step - loss: 6.9163e-04\n"
          ],
          "name": "stdout"
        },
        {
          "output_type": "execute_result",
          "data": {
            "text/plain": [
              "<keras.callbacks.History at 0x7f90b022de50>"
            ]
          },
          "metadata": {},
          "execution_count": 14
        }
      ]
    },
    {
      "cell_type": "markdown",
      "metadata": {
        "id": "ywAFCy4f-rhU"
      },
      "source": [
        "### Predict using trained Stacked LSTM model\n",
        "\n",
        "Import the test set from the [link](https://raw.githubusercontent.com/mwitiderrick/stockprice/master/tatatest.csv) to evaluate the model\n"
      ]
    },
    {
      "cell_type": "code",
      "metadata": {
        "id": "_WZowntf-pJZ",
        "outputId": "9a28b298-50a0-49f4-e8c9-2e72373bfc47",
        "colab": {
          "base_uri": "https://localhost:8080/",
          "height": 206
        }
      },
      "source": [
        "data_test = pd.read_csv('https://raw.githubusercontent.com/mwitiderrick/stockprice/master/tatatest.csv')\n",
        "data_test.head()"
      ],
      "execution_count": 15,
      "outputs": [
        {
          "output_type": "execute_result",
          "data": {
            "text/html": [
              "<div>\n",
              "<style scoped>\n",
              "    .dataframe tbody tr th:only-of-type {\n",
              "        vertical-align: middle;\n",
              "    }\n",
              "\n",
              "    .dataframe tbody tr th {\n",
              "        vertical-align: top;\n",
              "    }\n",
              "\n",
              "    .dataframe thead th {\n",
              "        text-align: right;\n",
              "    }\n",
              "</style>\n",
              "<table border=\"1\" class=\"dataframe\">\n",
              "  <thead>\n",
              "    <tr style=\"text-align: right;\">\n",
              "      <th></th>\n",
              "      <th>Date</th>\n",
              "      <th>Open</th>\n",
              "      <th>High</th>\n",
              "      <th>Low</th>\n",
              "      <th>Last</th>\n",
              "      <th>Close</th>\n",
              "      <th>Total Trade Quantity</th>\n",
              "      <th>Turnover (Lacs)</th>\n",
              "    </tr>\n",
              "  </thead>\n",
              "  <tbody>\n",
              "    <tr>\n",
              "      <th>0</th>\n",
              "      <td>2018-10-24</td>\n",
              "      <td>220.10</td>\n",
              "      <td>221.25</td>\n",
              "      <td>217.05</td>\n",
              "      <td>219.55</td>\n",
              "      <td>219.80</td>\n",
              "      <td>2171956</td>\n",
              "      <td>4771.34</td>\n",
              "    </tr>\n",
              "    <tr>\n",
              "      <th>1</th>\n",
              "      <td>2018-10-23</td>\n",
              "      <td>221.10</td>\n",
              "      <td>222.20</td>\n",
              "      <td>214.75</td>\n",
              "      <td>219.55</td>\n",
              "      <td>218.30</td>\n",
              "      <td>1416279</td>\n",
              "      <td>3092.15</td>\n",
              "    </tr>\n",
              "    <tr>\n",
              "      <th>2</th>\n",
              "      <td>2018-10-22</td>\n",
              "      <td>229.45</td>\n",
              "      <td>231.60</td>\n",
              "      <td>222.00</td>\n",
              "      <td>223.05</td>\n",
              "      <td>223.25</td>\n",
              "      <td>3529711</td>\n",
              "      <td>8028.37</td>\n",
              "    </tr>\n",
              "    <tr>\n",
              "      <th>3</th>\n",
              "      <td>2018-10-19</td>\n",
              "      <td>230.30</td>\n",
              "      <td>232.70</td>\n",
              "      <td>225.50</td>\n",
              "      <td>227.75</td>\n",
              "      <td>227.20</td>\n",
              "      <td>1527904</td>\n",
              "      <td>3490.78</td>\n",
              "    </tr>\n",
              "    <tr>\n",
              "      <th>4</th>\n",
              "      <td>2018-10-17</td>\n",
              "      <td>237.70</td>\n",
              "      <td>240.80</td>\n",
              "      <td>229.45</td>\n",
              "      <td>231.30</td>\n",
              "      <td>231.10</td>\n",
              "      <td>2945914</td>\n",
              "      <td>6961.65</td>\n",
              "    </tr>\n",
              "  </tbody>\n",
              "</table>\n",
              "</div>"
            ],
            "text/plain": [
              "         Date    Open    High  ...   Close  Total Trade Quantity  Turnover (Lacs)\n",
              "0  2018-10-24  220.10  221.25  ...  219.80               2171956          4771.34\n",
              "1  2018-10-23  221.10  222.20  ...  218.30               1416279          3092.15\n",
              "2  2018-10-22  229.45  231.60  ...  223.25               3529711          8028.37\n",
              "3  2018-10-19  230.30  232.70  ...  227.20               1527904          3490.78\n",
              "4  2018-10-17  237.70  240.80  ...  231.10               2945914          6961.65\n",
              "\n",
              "[5 rows x 8 columns]"
            ]
          },
          "metadata": {},
          "execution_count": 15
        }
      ]
    },
    {
      "cell_type": "code",
      "metadata": {
        "id": "l5AD4cJ2_ZhA",
        "outputId": "37d5b003-e2e1-4fef-beaa-df5bde375043",
        "colab": {
          "base_uri": "https://localhost:8080/",
          "height": 206
        }
      },
      "source": [
        "data_test.tail()"
      ],
      "execution_count": 16,
      "outputs": [
        {
          "output_type": "execute_result",
          "data": {
            "text/html": [
              "<div>\n",
              "<style scoped>\n",
              "    .dataframe tbody tr th:only-of-type {\n",
              "        vertical-align: middle;\n",
              "    }\n",
              "\n",
              "    .dataframe tbody tr th {\n",
              "        vertical-align: top;\n",
              "    }\n",
              "\n",
              "    .dataframe thead th {\n",
              "        text-align: right;\n",
              "    }\n",
              "</style>\n",
              "<table border=\"1\" class=\"dataframe\">\n",
              "  <thead>\n",
              "    <tr style=\"text-align: right;\">\n",
              "      <th></th>\n",
              "      <th>Date</th>\n",
              "      <th>Open</th>\n",
              "      <th>High</th>\n",
              "      <th>Low</th>\n",
              "      <th>Last</th>\n",
              "      <th>Close</th>\n",
              "      <th>Total Trade Quantity</th>\n",
              "      <th>Turnover (Lacs)</th>\n",
              "    </tr>\n",
              "  </thead>\n",
              "  <tbody>\n",
              "    <tr>\n",
              "      <th>11</th>\n",
              "      <td>2018-10-08</td>\n",
              "      <td>208.00</td>\n",
              "      <td>222.25</td>\n",
              "      <td>206.85</td>\n",
              "      <td>216.00</td>\n",
              "      <td>215.15</td>\n",
              "      <td>4642146</td>\n",
              "      <td>10062.83</td>\n",
              "    </tr>\n",
              "    <tr>\n",
              "      <th>12</th>\n",
              "      <td>2018-10-05</td>\n",
              "      <td>217.00</td>\n",
              "      <td>218.60</td>\n",
              "      <td>205.90</td>\n",
              "      <td>210.25</td>\n",
              "      <td>209.20</td>\n",
              "      <td>3519515</td>\n",
              "      <td>7407.06</td>\n",
              "    </tr>\n",
              "    <tr>\n",
              "      <th>13</th>\n",
              "      <td>2018-10-04</td>\n",
              "      <td>223.50</td>\n",
              "      <td>227.80</td>\n",
              "      <td>216.15</td>\n",
              "      <td>217.25</td>\n",
              "      <td>218.20</td>\n",
              "      <td>1728786</td>\n",
              "      <td>3815.79</td>\n",
              "    </tr>\n",
              "    <tr>\n",
              "      <th>14</th>\n",
              "      <td>2018-10-03</td>\n",
              "      <td>230.00</td>\n",
              "      <td>237.50</td>\n",
              "      <td>225.75</td>\n",
              "      <td>226.45</td>\n",
              "      <td>227.60</td>\n",
              "      <td>1708590</td>\n",
              "      <td>3960.27</td>\n",
              "    </tr>\n",
              "    <tr>\n",
              "      <th>15</th>\n",
              "      <td>2018-10-01</td>\n",
              "      <td>234.55</td>\n",
              "      <td>234.60</td>\n",
              "      <td>221.05</td>\n",
              "      <td>230.30</td>\n",
              "      <td>230.90</td>\n",
              "      <td>1534749</td>\n",
              "      <td>3486.05</td>\n",
              "    </tr>\n",
              "  </tbody>\n",
              "</table>\n",
              "</div>"
            ],
            "text/plain": [
              "          Date    Open    High  ...   Close  Total Trade Quantity  Turnover (Lacs)\n",
              "11  2018-10-08  208.00  222.25  ...  215.15               4642146         10062.83\n",
              "12  2018-10-05  217.00  218.60  ...  209.20               3519515          7407.06\n",
              "13  2018-10-04  223.50  227.80  ...  218.20               1728786          3815.79\n",
              "14  2018-10-03  230.00  237.50  ...  227.60               1708590          3960.27\n",
              "15  2018-10-01  234.55  234.60  ...  230.90               1534749          3486.05\n",
              "\n",
              "[5 rows x 8 columns]"
            ]
          },
          "metadata": {},
          "execution_count": 16
        }
      ]
    },
    {
      "cell_type": "markdown",
      "metadata": {
        "id": "4OWexYxm_f-h"
      },
      "source": [
        "### Prepare the test dataset same as training set"
      ]
    },
    {
      "cell_type": "code",
      "metadata": {
        "id": "UjzkcxW-_dXE"
      },
      "source": [
        "testing_set = data_test.iloc[:, 1:2].values"
      ],
      "execution_count": 17,
      "outputs": []
    },
    {
      "cell_type": "markdown",
      "metadata": {
        "id": "zY-elWHWAFHu"
      },
      "source": [
        "Modify the test set:\n",
        "- Merge the training and test set on axis=0,\n",
        "- set 60 as the timestep,\n",
        "- use same scaler to scale the data\n",
        "- reshape the dataset"
      ]
    },
    {
      "cell_type": "code",
      "metadata": {
        "id": "9BWBOwnVACIN"
      },
      "source": [
        "data_all = pd.concat([data['Open'], data_test['Open']], axis=0)\n",
        "inputs = data_all[len(data_all) - len(data_test) - 60:].values\n",
        "inputs = inputs.reshape(-1, 1)\n",
        "inputs = scaler.transform(inputs)"
      ],
      "execution_count": 18,
      "outputs": []
    },
    {
      "cell_type": "code",
      "metadata": {
        "id": "xzsERTrUApBk",
        "outputId": "98885016-66af-485d-881e-4d8f8049a853",
        "colab": {
          "base_uri": "https://localhost:8080/"
        }
      },
      "source": [
        "inputs.shape"
      ],
      "execution_count": 19,
      "outputs": [
        {
          "output_type": "execute_result",
          "data": {
            "text/plain": [
              "(76, 1)"
            ]
          },
          "metadata": {},
          "execution_count": 19
        }
      ]
    },
    {
      "cell_type": "code",
      "metadata": {
        "id": "Lxuoa9L4AqJg"
      },
      "source": [
        "# 1. Create data in 60 timesteps\n",
        "X_test = []\n",
        "for i in range(60, inputs.shape[0]):\n",
        "  X_test.append(inputs[i-60:i, 0])\n",
        "\n",
        "# 2. Convert into array\n",
        "X_test = np.array(X_test)\n",
        "\n",
        "# 3. Convert to 3D array\n",
        "X_test = np.reshape(X_test, (X_test.shape[0], X_test.shape[1], 1))"
      ],
      "execution_count": 20,
      "outputs": []
    },
    {
      "cell_type": "code",
      "metadata": {
        "id": "dfnPvHDXA9em"
      },
      "source": [
        "# Predict the prices for given input\n",
        "predicted_stock_prices = model.predict(X_test)\n",
        "\n",
        "predicted_stock_prices = scaler.inverse_transform(predicted_stock_prices)"
      ],
      "execution_count": 21,
      "outputs": []
    },
    {
      "cell_type": "markdown",
      "metadata": {
        "id": "4yft-y1TCFDw"
      },
      "source": [
        "## Visualize the predictions and actuals"
      ]
    },
    {
      "cell_type": "code",
      "metadata": {
        "id": "8LIRkNtxCAv1",
        "outputId": "18ad4b4c-fbc9-40ec-cedb-a1ebffb764f3",
        "colab": {
          "base_uri": "https://localhost:8080/",
          "height": 404
        }
      },
      "source": [
        "# Plot\n",
        "plt.figure(figsize=(10, 6))\n",
        "plt.plot(testing_set, color='black', label='Actual')\n",
        "plt.plot(predicted_stock_prices, color='green', label='Predicted')\n",
        "plt.title('Stock prices Actual vs Predicted')\n",
        "plt.xlabel('Timestep')\n",
        "plt.ylabel('Open prices')\n",
        "plt.legend()\n",
        "plt.show()"
      ],
      "execution_count": 22,
      "outputs": [
        {
          "output_type": "display_data",
          "data": {
            "image/png": "[encoded data removed]",
            "text/plain": [
              "<Figure size 720x432 with 1 Axes>"
            ]
          },
          "metadata": {
            "needs_background": "light"
          }
        }
      ]
    },
    {
      "cell_type": "markdown",
      "metadata": {
        "id": "lGzOvaD-DGwE"
      },
      "source": [
        "Well! That's not bad, though our model is not that accurate, but it could learn the trends of when it is going up or down."
      ]
    },
    {
      "cell_type": "code",
      "metadata": {
        "id": "w4-BymyPCtF2"
      },
      "source": [
        ""
      ],
      "execution_count": 22,
      "outputs": []
    }
  ]
}