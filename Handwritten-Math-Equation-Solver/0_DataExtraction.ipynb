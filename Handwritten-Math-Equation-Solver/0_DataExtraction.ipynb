{
 "cells": [
  {
   "cell_type": "markdown",
   "metadata": {
    "colab_type": "text",
    "id": "view-in-github"
   },
   "source": [
    "<a href=\"https://colab.research.google.com/github/peeush-the-developer/LGMVIP-DataScience/blob/main/Handwritten-Math-Equation-Solver/0_DataExtraction.ipynb\" target=\"_parent\"><img src=\"https://colab.research.google.com/assets/colab-badge.svg\" alt=\"Open In Colab\"/></a>"
   ]
  },
  {
   "cell_type": "markdown",
   "metadata": {
    "id": "R-em1mtmgqFb"
   },
   "source": [
    "# Data extraction\n",
    "\n",
    "- Fetch upto 4000 images if number of images > 4000 per class.\n",
    "- Then, resize each image into 28x28 and then convert it into 784 vector\n",
    "- Then, prepare the dataframe with all the image vectors and add label to each vector\n",
    "- Then, save the dataframe to a CSV file."
   ]
  },
  {
   "cell_type": "code",
   "execution_count": 1,
   "metadata": {
    "id": "4eovGod9gkrm"
   },
   "outputs": [],
   "source": [
    "# Import libraries\n",
    "import os\n",
    "import random\n",
    "\n",
    "from tqdm.notebook import tqdm"
   ]
  },
  {
   "cell_type": "code",
   "execution_count": 2,
   "metadata": {
    "colab": {
     "base_uri": "https://localhost:8080/"
    },
    "id": "vj1y7KC6VlXY",
    "outputId": "ca92a0f5-3b3a-4202-d832-3d3be454e1e5"
   },
   "outputs": [],
   "source": [
    "# Mount Google drive in the notebook\n",
    "# from google.colab import drive\n",
    "# drive.mount('/gdrive')"
   ]
  },
  {
   "cell_type": "code",
   "execution_count": 3,
   "metadata": {
    "id": "fR6MISrZVr5p"
   },
   "outputs": [],
   "source": [
    "# base_folder = '/gdrive/My Drive/Projects/Handwritten-Math-Equation-Solver'\n",
    "base_folder = 'data'\n",
    "input_folder = os.path.join(base_folder, 'input_images')"
   ]
  },
  {
   "cell_type": "markdown",
   "metadata": {
    "id": "bhOg1vH0kFQq"
   },
   "source": [
    "## 1. Fetch upto 4000 images if number of images > 4000 per class"
   ]
  },
  {
   "cell_type": "code",
   "execution_count": 4,
   "metadata": {
    "colab": {
     "base_uri": "https://localhost:8080/"
    },
    "id": "xmMPv4K-gCJB",
    "outputId": "9f568005-5a13-4160-851a-603bd42bfd25"
   },
   "outputs": [
    {
     "data": {
      "application/vnd.jupyter.widget-view+json": {
       "model_id": "f5f7abc8bd674081ad33b98cf6f46c8d",
       "version_major": 2,
       "version_minor": 0
      },
      "text/plain": [
       "  0%|          | 0/16 [00:00<?, ?it/s]"
      ]
     },
     "metadata": {},
     "output_type": "display_data"
    },
    {
     "name": "stdout",
     "output_type": "stream",
     "text": [
      "dict_items([('div', 868), ('7', 2909), ('8', 3068), ('6', 3118), ('times', 3251), ('5', 3545), ('9', 3737), ('0', 4000), ('+', 4000), ('1', 4000), ('-', 4000), ('=', 4000), ('4', 4000), ('3', 4000), ('2', 4000)])\n"
     ]
    }
   ],
   "source": [
    "# Check no. of images in each class\n",
    "items_count_dict = {}\n",
    "for folder in tqdm(os.listdir(input_folder)):\n",
    "  folder_path = os.path.join(input_folder, folder)\n",
    "  if not os.path.isdir(folder_path):\n",
    "    continue\n",
    "  items = os.listdir(folder_path)\n",
    "  items_count_dict[folder] = len(items)\n",
    "\n",
    "sorted_items = sorted(items_count_dict.items(), key=lambda x:x[1])\n",
    "items_count_dict_sorted = dict(sorted_items)\n",
    "print(items_count_dict_sorted.items())"
   ]
  },
  {
   "cell_type": "code",
   "execution_count": 5,
   "metadata": {
    "id": "EK9fawd2if3r"
   },
   "outputs": [],
   "source": [
    "# To keep the sample size limited, we take <4000 images randomly for each class.\n",
    "threshold = 4000"
   ]
  },
  {
   "cell_type": "code",
   "execution_count": 6,
   "metadata": {
    "colab": {
     "base_uri": "https://localhost:8080/"
    },
    "id": "kRmTS0m5iwm3",
    "outputId": "50108955-4f86-4c31-98e1-2e987eb04459"
   },
   "outputs": [
    {
     "data": {
      "application/vnd.jupyter.widget-view+json": {
       "model_id": "783843e863cd417fb7ece54eef1fc818",
       "version_major": 2,
       "version_minor": 0
      },
      "text/plain": [
       "  0%|          | 0/16 [00:00<?, ?it/s]"
      ]
     },
     "metadata": {},
     "output_type": "display_data"
    },
    {
     "name": "stdout",
     "output_type": "stream",
     "text": [
      "div      868    0  868\n",
      "times   3251    0 3251\n",
      "9       3737    0 3737\n",
      "0       4000    0 4000\n",
      "7       2909    0 2909\n",
      "+       4000    0 4000\n",
      "6       3118    0 3118\n",
      "1       4000    0 4000\n",
      "8       3068    0 3068\n",
      "-       4000    0 4000\n",
      "=       4000    0 4000\n",
      "4       4000    0 4000\n",
      "3       4000    0 4000\n",
      "2       4000    0 4000\n",
      "5       3545    0 3545\n"
     ]
    }
   ],
   "source": [
    "items_count_dict = {}\n",
    "\n",
    "# Iterate over all classes folders\n",
    "for folder in tqdm(os.listdir(input_folder)):\n",
    "  folder_path = os.path.join(input_folder, folder)\n",
    "  if not os.path.isdir(folder_path):\n",
    "    continue\n",
    "\n",
    "  # fetch filenames in the class folder\n",
    "  items = os.listdir(folder_path)\n",
    "  \n",
    "  # vars for bookeeping\n",
    "  items_orig_len = len(items)\n",
    "  deleted_files_len = 0\n",
    "\n",
    "  if len(items) > threshold:\n",
    "    # Fetch random filenames upto threshold from all filenames\n",
    "    random_files = random.sample(items, threshold)\n",
    "    # Take difference of filenames to be deleted\n",
    "    to_delete_files = set(items) - set(random_files)\n",
    "    \n",
    "    # vars for bookeeping\n",
    "    deleted_files_len = len(to_delete_files)\n",
    "    # Delete files (not selected in random sampling)\n",
    "    for item in to_delete_files:\n",
    "      os.remove(os.path.join(folder_path, item))\n",
    "\n",
    "  # fetch filenames in the class folder again\n",
    "  items = os.listdir(folder_path)\n",
    "  # Print resultant metric for the class folder\n",
    "  print(f'{folder:<6} {items_orig_len:>5} {deleted_files_len:>4} {len(items):>4}')\n",
    "\n",
    "  # Add items len in the dict\n",
    "  items_count_dict[folder] = len(items)"
   ]
  },
  {
   "cell_type": "code",
   "execution_count": 7,
   "metadata": {
    "colab": {
     "base_uri": "https://localhost:8080/"
    },
    "id": "EqKSEnfqjxIj",
    "outputId": "49f9a168-5387-4d43-de20-e5062f03b254"
   },
   "outputs": [
    {
     "name": "stdout",
     "output_type": "stream",
     "text": [
      "dict_items([('div', 868), ('times', 3251), ('9', 3737), ('0', 4000), ('7', 2909), ('+', 4000), ('6', 3118), ('1', 4000), ('8', 3068), ('-', 4000), ('=', 4000), ('4', 4000), ('3', 4000), ('2', 4000), ('5', 3545)])\n"
     ]
    }
   ],
   "source": [
    "# Print the dictionary with len of items in each class folder\n",
    "print(items_count_dict.items())"
   ]
  },
  {
   "cell_type": "markdown",
   "metadata": {
    "id": "B9InU9NKleSS"
   },
   "source": [
    "## 2. Apply image transformations and then convert to 784 vector for each image"
   ]
  },
  {
   "cell_type": "code",
   "execution_count": 8,
   "metadata": {
    "id": "WvPzqo-ylT2B"
   },
   "outputs": [],
   "source": [
    "# Import libraries\n",
    "import pandas as pd\n",
    "import numpy as np\n",
    "import cv2\n",
    "\n",
    "import matplotlib.pyplot as plt\n",
    "%matplotlib inline\n",
    "\n",
    "import os\n",
    "from tqdm.notebook import tqdm"
   ]
  },
  {
   "cell_type": "code",
   "execution_count": 9,
   "metadata": {
    "id": "gt-UYta3mw3W"
   },
   "outputs": [],
   "source": [
    "def read_img_to_gray(img_filepath):\n",
    "  img = cv2.imread(img_filepath)\n",
    "  imgray = cv2.cvtColor(img, cv2.COLOR_BGR2GRAY)\n",
    "  imgray = ~imgray\n",
    "  return imgray"
   ]
  },
  {
   "cell_type": "code",
   "execution_count": 10,
   "metadata": {
    "id": "iI9-lk1Wl1w9"
   },
   "outputs": [],
   "source": [
    "def resize_img(imgray, resize=(28,28)):\n",
    "  '''\n",
    "  Resize the image by finding contours around the math symbol and then resize it to 28x28 shape\n",
    "\n",
    "  Arguments:\n",
    "    imgray: Image in grayscale\n",
    "\n",
    "  Returns:\n",
    "    Resized image of 28x28 shape\n",
    "  '''\n",
    "  ret, thresh = cv2.threshold(imgray, 127, 255, cv2.THRESH_BINARY)\n",
    "  contours, hierarchy = cv2.findContours(thresh, cv2.RETR_EXTERNAL, cv2.CHAIN_APPROX_NONE)\n",
    "  # contours, hierarchy = cv2.findContours(thresh, cv2.RETR_TREE, cv2.CHAIN_APPROX_SIMPLE)\n",
    "  # print('Number of contours:', len(contours))\n",
    "  # print(hierarchy.shape)\n",
    "  cnt = sorted(contours, key = lambda ctr: cv2.boundingRect(ctr)[0])\n",
    "  w, h = resize\n",
    "  max_size = 0\n",
    "  for c in cnt:\n",
    "    x, y, w, h = cv2.boundingRect(c)\n",
    "    # print(x, y, w, h)\n",
    "    max_size = max(w*h, max_size)\n",
    "    if max_size == w*h:\n",
    "      x_max = x\n",
    "      y_max = y\n",
    "      w_max = w\n",
    "      h_max = h\n",
    "  cropped_img = thresh[y_max:y_max+h_max+10, x_max:x_max+w_max+10]\n",
    "  resized_img = cv2.resize(cropped_img, resize)\n",
    "  # print(imgray.shape)\n",
    "  # print(resized_img.shape)\n",
    "  # resized_img=np.reshape(resized_img,(784,1))\n",
    "  return resized_img"
   ]
  },
  {
   "cell_type": "code",
   "execution_count": 11,
   "metadata": {
    "id": "rtzamrgV1eqO"
   },
   "outputs": [],
   "source": [
    "def convert_img_to_vector(img_resized, vec_size=784):\n",
    "  return np.reshape(img_resized, (vec_size, 1))"
   ]
  },
  {
   "cell_type": "code",
   "execution_count": 12,
   "metadata": {
    "id": "YLjS3eN-2i22"
   },
   "outputs": [
    {
     "data": {
      "application/vnd.jupyter.widget-view+json": {
       "model_id": "9c0adf91be0f41d09a1e263f07416c7d",
       "version_major": 2,
       "version_minor": 0
      },
      "text/plain": [
       "  0%|          | 0/16 [00:00<?, ?it/s]"
      ]
     },
     "metadata": {},
     "output_type": "display_data"
    },
    {
     "data": {
      "application/vnd.jupyter.widget-view+json": {
       "model_id": "ea636a6e15364719b2f2394894305f89",
       "version_major": 2,
       "version_minor": 0
      },
      "text/plain": [
       "  0%|          | 0/868 [00:00<?, ?it/s]"
      ]
     },
     "metadata": {},
     "output_type": "display_data"
    },
    {
     "data": {
      "application/vnd.jupyter.widget-view+json": {
       "model_id": "8d115e561d254fc78aa52fac35ec9ff8",
       "version_major": 2,
       "version_minor": 0
      },
      "text/plain": [
       "  0%|          | 0/3251 [00:00<?, ?it/s]"
      ]
     },
     "metadata": {},
     "output_type": "display_data"
    },
    {
     "data": {
      "application/vnd.jupyter.widget-view+json": {
       "model_id": "58615fd13c7149dca9a7b52459116911",
       "version_major": 2,
       "version_minor": 0
      },
      "text/plain": [
       "  0%|          | 0/3737 [00:00<?, ?it/s]"
      ]
     },
     "metadata": {},
     "output_type": "display_data"
    },
    {
     "data": {
      "application/vnd.jupyter.widget-view+json": {
       "model_id": "3d61b8b4fff54da89d76fc8fdb3745f1",
       "version_major": 2,
       "version_minor": 0
      },
      "text/plain": [
       "  0%|          | 0/4000 [00:00<?, ?it/s]"
      ]
     },
     "metadata": {},
     "output_type": "display_data"
    },
    {
     "data": {
      "application/vnd.jupyter.widget-view+json": {
       "model_id": "9311f1afa1e14b64b7f4af2885dad0f5",
       "version_major": 2,
       "version_minor": 0
      },
      "text/plain": [
       "  0%|          | 0/2909 [00:00<?, ?it/s]"
      ]
     },
     "metadata": {},
     "output_type": "display_data"
    },
    {
     "data": {
      "application/vnd.jupyter.widget-view+json": {
       "model_id": "caceb5ed3d954302bea1379c994da1cc",
       "version_major": 2,
       "version_minor": 0
      },
      "text/plain": [
       "  0%|          | 0/4000 [00:00<?, ?it/s]"
      ]
     },
     "metadata": {},
     "output_type": "display_data"
    },
    {
     "data": {
      "application/vnd.jupyter.widget-view+json": {
       "model_id": "69e4d9f6489c443486c236f7c2059c59",
       "version_major": 2,
       "version_minor": 0
      },
      "text/plain": [
       "  0%|          | 0/3118 [00:00<?, ?it/s]"
      ]
     },
     "metadata": {},
     "output_type": "display_data"
    },
    {
     "data": {
      "application/vnd.jupyter.widget-view+json": {
       "model_id": "816d680e9c254fa3a315eef35eb3e848",
       "version_major": 2,
       "version_minor": 0
      },
      "text/plain": [
       "  0%|          | 0/4000 [00:00<?, ?it/s]"
      ]
     },
     "metadata": {},
     "output_type": "display_data"
    },
    {
     "data": {
      "application/vnd.jupyter.widget-view+json": {
       "model_id": "163f7a4c65b94ed88d3aede1072905d1",
       "version_major": 2,
       "version_minor": 0
      },
      "text/plain": [
       "  0%|          | 0/3068 [00:00<?, ?it/s]"
      ]
     },
     "metadata": {},
     "output_type": "display_data"
    },
    {
     "data": {
      "application/vnd.jupyter.widget-view+json": {
       "model_id": "2850f35b3a1c434d8729a697c42ce68e",
       "version_major": 2,
       "version_minor": 0
      },
      "text/plain": [
       "  0%|          | 0/4000 [00:00<?, ?it/s]"
      ]
     },
     "metadata": {},
     "output_type": "display_data"
    },
    {
     "data": {
      "application/vnd.jupyter.widget-view+json": {
       "model_id": "485944e660a3455d9f30531d9e660ee1",
       "version_major": 2,
       "version_minor": 0
      },
      "text/plain": [
       "  0%|          | 0/4000 [00:00<?, ?it/s]"
      ]
     },
     "metadata": {},
     "output_type": "display_data"
    },
    {
     "data": {
      "application/vnd.jupyter.widget-view+json": {
       "model_id": "ab0b0cac9a504b18a2853dfa1c9e87c6",
       "version_major": 2,
       "version_minor": 0
      },
      "text/plain": [
       "  0%|          | 0/4000 [00:00<?, ?it/s]"
      ]
     },
     "metadata": {},
     "output_type": "display_data"
    },
    {
     "data": {
      "application/vnd.jupyter.widget-view+json": {
       "model_id": "d5083b4dcdd045a78c52ca8c380ca971",
       "version_major": 2,
       "version_minor": 0
      },
      "text/plain": [
       "  0%|          | 0/4000 [00:00<?, ?it/s]"
      ]
     },
     "metadata": {},
     "output_type": "display_data"
    },
    {
     "data": {
      "application/vnd.jupyter.widget-view+json": {
       "model_id": "1dc06d829b2543c4a3cb525ebf96d7c7",
       "version_major": 2,
       "version_minor": 0
      },
      "text/plain": [
       "  0%|          | 0/4000 [00:00<?, ?it/s]"
      ]
     },
     "metadata": {},
     "output_type": "display_data"
    },
    {
     "data": {
      "application/vnd.jupyter.widget-view+json": {
       "model_id": "fa7376c35b7641c4bea3b9d892535594",
       "version_major": 2,
       "version_minor": 0
      },
      "text/plain": [
       "  0%|          | 0/3545 [00:00<?, ?it/s]"
      ]
     },
     "metadata": {},
     "output_type": "display_data"
    }
   ],
   "source": [
    "data = []\n",
    "for folder in tqdm(os.listdir(input_folder)):\n",
    "  folder_path = os.path.join(input_folder, folder)\n",
    "  if not os.path.isdir(folder_path):\n",
    "    continue\n",
    "  \n",
    "  for img in tqdm(os.listdir(folder_path)):\n",
    "    imgray = read_img_to_gray(os.path.join(folder_path, img))\n",
    "    img_resized = resize_img(imgray)\n",
    "    img_vector = convert_img_to_vector(img_resized)\n",
    "    data.append(np.append(img_vector, [folder]))"
   ]
  },
  {
   "cell_type": "code",
   "execution_count": 13,
   "metadata": {},
   "outputs": [
    {
     "name": "stdout",
     "output_type": "stream",
     "text": [
      "[array(['73', '255', '255', '255', '255', '218', '0', '0', '0', '0', '0',\n",
      "       '0', '0', '0', '0', '0', '0', '0', '0', '0', '0', '0', '0', '0',\n",
      "       '0', '0', '0', '0', '100', '191', '191', '191', '191', '173', '64',\n",
      "       '64', '64', '64', '64', '0', '0', '0', '0', '0', '0', '0', '0',\n",
      "       '0', '0', '0', '0', '0', '0', '0', '55', '0', '155', '64', '64',\n",
      "       '64', '64', '82', '191', '191', '191', '191', '191', '0', '0', '0',\n",
      "       '0', '0', '0', '0', '0', '0', '0', '0', '0', '0', '0', '0', '164',\n",
      "       '0', '137', '0', '0', '0', '0', '27', '191', '191', '191', '191',\n",
      "       '191', '64', '64', '64', '64', '64', '36', '0', '0', '0', '0', '0',\n",
      "       '0', '0', '0', '0', '218', '0', '46', '0', '0', '0', '0', '9',\n",
      "       '64', '64', '64', '64', '64', '191', '191', '191', '191', '191',\n",
      "       '109', '0', '0', '0', '0', '0', '0', '0', '0', '0', '218', '0',\n",
      "       '0', '0', '0', '0', '0', '0', '0', '0', '0', '0', '0', '191',\n",
      "       '191', '191', '191', '191', '137', '64', '64', '64', '64', '64',\n",
      "       '64', '64', '64', '64', '164', '0', '0', '0', '0', '0', '0', '0',\n",
      "       '0', '0', '0', '0', '0', '64', '64', '64', '64', '64', '118',\n",
      "       '191', '191', '191', '191', '191', '191', '191', '191', '191',\n",
      "       '55', '0', '0', '0', '0', '0', '0', '0', '0', '0', '0', '0', '0',\n",
      "       '0', '0', '0', '0', '0', '82', '191', '191', '191', '191', '191',\n",
      "       '191', '191', '191', '191', '0', '0', '0', '0', '0', '0', '0', '0',\n",
      "       '0', '0', '0', '0', '0', '0', '0', '0', '0', '0', '27', '64', '64',\n",
      "       '64', '64', '64', '64', '64', '64', '64', '0', '0', '0', '0', '0',\n",
      "       '0', '0', '0', '0', '0', '0', '0', '0', '0', '0', '0', '0', '0',\n",
      "       '0', '0', '0', '0', '0', '0', '0', '0', '0', '0', '0', '0', '0',\n",
      "       '0', '0', '0', '0', '0', '0', '0', '0', '0', '0', '0', '0', '0',\n",
      "       '0', '0', '0', '0', '0', '0', '0', '0', '0', '0', '0', '0', '0',\n",
      "       '0', '0', '0', '0', '0', '0', '0', '0', '0', '0', '0', '0', '0',\n",
      "       '0', '0', '0', '0', '0', '0', '0', '0', '0', '0', '0', '0', '0',\n",
      "       '0', '0', '0', '0', '0', '0', '0', '0', '0', '0', '0', '0', '0',\n",
      "       '0', '0', '0', '0', '0', '0', '0', '0', '0', '0', '0', '0', '0',\n",
      "       '0', '0', '0', '0', '0', '0', '0', '0', '0', '0', '0', '0', '0',\n",
      "       '0', '0', '0', '0', '0', '0', '0', '0', '0', '0', '0', '0', '0',\n",
      "       '0', '0', '0', '0', '0', '0', '0', '0', '0', '0', '0', '0', '0',\n",
      "       '0', '0', '0', '0', '0', '0', '0', '0', '0', '0', '0', '0', '0',\n",
      "       '0', '0', '0', '0', '0', '0', '0', '0', '0', '0', '0', '0', '0',\n",
      "       '0', '0', '0', '0', '0', '0', '0', '0', '0', '0', '0', '0', '0',\n",
      "       '0', '0', '0', '0', '0', '0', '0', '0', '0', '0', '0', '0', '0',\n",
      "       '0', '0', '0', '0', '0', '0', '0', '0', '0', '0', '0', '0', '0',\n",
      "       '0', '0', '0', '0', '0', '0', '0', '0', '0', '0', '0', '0', '0',\n",
      "       '0', '0', '0', '0', '0', '0', '0', '0', '0', '0', '0', '0', '0',\n",
      "       '0', '0', '0', '0', '0', '0', '0', '0', '0', '0', '0', '0', '0',\n",
      "       '0', '0', '0', '0', '0', '0', '0', '0', '0', '0', '0', '0', '0',\n",
      "       '0', '0', '0', '0', '0', '0', '0', '0', '0', '0', '0', '0', '0',\n",
      "       '0', '0', '0', '0', '0', '0', '0', '0', '0', '0', '0', '0', '0',\n",
      "       '0', '0', '0', '0', '0', '0', '0', '0', '0', '0', '0', '0', '0',\n",
      "       '0', '0', '0', '0', '0', '0', '0', '0', '0', '0', '0', '0', '0',\n",
      "       '0', '0', '0', '0', '0', '0', '0', '0', '0', '0', '0', '0', '0',\n",
      "       '0', '0', '0', '0', '0', '0', '0', '0', '0', '0', '0', '0', '0',\n",
      "       '0', '0', '0', '0', '0', '0', '0', '0', '0', '0', '0', '0', '0',\n",
      "       '0', '0', '0', '0', '0', '0', '0', '0', '0', '0', '0', '0', '0',\n",
      "       '0', '0', '0', '0', '0', '0', '0', '0', '0', '0', '0', '0', '0',\n",
      "       '0', '0', '0', '0', '0', '0', '0', '0', '0', '0', '0', '0', '0',\n",
      "       '0', '0', '0', '0', '0', '0', '0', '0', '0', '0', '0', '0', '0',\n",
      "       '0', '0', '0', '0', '0', '0', '0', '0', '0', '0', '0', '0', '0',\n",
      "       '0', '0', '0', '0', '0', '0', '0', '0', '0', '0', '0', '0', '0',\n",
      "       '0', '0', '0', '0', '0', '0', '0', '0', '0', '0', '0', '0', '0',\n",
      "       '0', '0', '0', '0', '0', '0', '0', '0', '0', '0', '0', '0', '0',\n",
      "       '0', '0', '0', '0', '0', '0', '0', '0', '0', '0', '0', '0', '0',\n",
      "       '0', '0', '0', '0', '0', '0', '0', '0', '0', '0', '0', '0', '0',\n",
      "       '0', '0', '0', '0', '0', '0', '0', '0', '0', '0', '0', '0', '0',\n",
      "       '0', '0', '0', '0', '0', '0', '0', '0', '0', '0', '0', '0', '0',\n",
      "       '0', '0', '0', '0', '0', '0', '0', '0', '0', '0', '0', '0', '0',\n",
      "       '0', '0', '0', '0', '0', '0', '0', '0', '0', 'div'], dtype='<U3')]\n"
     ]
    }
   ],
   "source": [
    "print(data[:1])"
   ]
  },
  {
   "cell_type": "code",
   "execution_count": 14,
   "metadata": {},
   "outputs": [
    {
     "name": "stdout",
     "output_type": "stream",
     "text": [
      "52496\n"
     ]
    }
   ],
   "source": [
    "print(len(data))"
   ]
  },
  {
   "cell_type": "markdown",
   "metadata": {},
   "source": [
    "## Prepare DataFrame with label column"
   ]
  },
  {
   "cell_type": "code",
   "execution_count": 15,
   "metadata": {
    "id": "WZ2MUQY44SZx"
   },
   "outputs": [],
   "source": [
    "df = pd.DataFrame(data, index=None)"
   ]
  },
  {
   "cell_type": "code",
   "execution_count": 16,
   "metadata": {
    "id": "vxSv3FMB6rIg"
   },
   "outputs": [
    {
     "data": {
      "text/html": [
       "<div>\n",
       "<style scoped>\n",
       "    .dataframe tbody tr th:only-of-type {\n",
       "        vertical-align: middle;\n",
       "    }\n",
       "\n",
       "    .dataframe tbody tr th {\n",
       "        vertical-align: top;\n",
       "    }\n",
       "\n",
       "    .dataframe thead th {\n",
       "        text-align: right;\n",
       "    }\n",
       "</style>\n",
       "<table border=\"1\" class=\"dataframe\">\n",
       "  <thead>\n",
       "    <tr style=\"text-align: right;\">\n",
       "      <th></th>\n",
       "      <th>0</th>\n",
       "      <th>1</th>\n",
       "      <th>2</th>\n",
       "      <th>3</th>\n",
       "      <th>4</th>\n",
       "      <th>5</th>\n",
       "      <th>6</th>\n",
       "      <th>7</th>\n",
       "      <th>8</th>\n",
       "      <th>9</th>\n",
       "      <th>...</th>\n",
       "      <th>775</th>\n",
       "      <th>776</th>\n",
       "      <th>777</th>\n",
       "      <th>778</th>\n",
       "      <th>779</th>\n",
       "      <th>780</th>\n",
       "      <th>781</th>\n",
       "      <th>782</th>\n",
       "      <th>783</th>\n",
       "      <th>784</th>\n",
       "    </tr>\n",
       "  </thead>\n",
       "  <tbody>\n",
       "    <tr>\n",
       "      <th>0</th>\n",
       "      <td>73</td>\n",
       "      <td>255</td>\n",
       "      <td>255</td>\n",
       "      <td>255</td>\n",
       "      <td>255</td>\n",
       "      <td>218</td>\n",
       "      <td>0</td>\n",
       "      <td>0</td>\n",
       "      <td>0</td>\n",
       "      <td>0</td>\n",
       "      <td>...</td>\n",
       "      <td>0</td>\n",
       "      <td>0</td>\n",
       "      <td>0</td>\n",
       "      <td>0</td>\n",
       "      <td>0</td>\n",
       "      <td>0</td>\n",
       "      <td>0</td>\n",
       "      <td>0</td>\n",
       "      <td>0</td>\n",
       "      <td>div</td>\n",
       "    </tr>\n",
       "    <tr>\n",
       "      <th>1</th>\n",
       "      <td>0</td>\n",
       "      <td>0</td>\n",
       "      <td>0</td>\n",
       "      <td>0</td>\n",
       "      <td>0</td>\n",
       "      <td>0</td>\n",
       "      <td>0</td>\n",
       "      <td>0</td>\n",
       "      <td>0</td>\n",
       "      <td>0</td>\n",
       "      <td>...</td>\n",
       "      <td>0</td>\n",
       "      <td>0</td>\n",
       "      <td>0</td>\n",
       "      <td>0</td>\n",
       "      <td>0</td>\n",
       "      <td>0</td>\n",
       "      <td>0</td>\n",
       "      <td>0</td>\n",
       "      <td>0</td>\n",
       "      <td>div</td>\n",
       "    </tr>\n",
       "    <tr>\n",
       "      <th>2</th>\n",
       "      <td>255</td>\n",
       "      <td>23</td>\n",
       "      <td>0</td>\n",
       "      <td>0</td>\n",
       "      <td>0</td>\n",
       "      <td>0</td>\n",
       "      <td>0</td>\n",
       "      <td>0</td>\n",
       "      <td>0</td>\n",
       "      <td>0</td>\n",
       "      <td>...</td>\n",
       "      <td>0</td>\n",
       "      <td>0</td>\n",
       "      <td>0</td>\n",
       "      <td>0</td>\n",
       "      <td>0</td>\n",
       "      <td>0</td>\n",
       "      <td>0</td>\n",
       "      <td>0</td>\n",
       "      <td>0</td>\n",
       "      <td>div</td>\n",
       "    </tr>\n",
       "    <tr>\n",
       "      <th>3</th>\n",
       "      <td>0</td>\n",
       "      <td>0</td>\n",
       "      <td>0</td>\n",
       "      <td>0</td>\n",
       "      <td>0</td>\n",
       "      <td>0</td>\n",
       "      <td>0</td>\n",
       "      <td>0</td>\n",
       "      <td>0</td>\n",
       "      <td>0</td>\n",
       "      <td>...</td>\n",
       "      <td>0</td>\n",
       "      <td>0</td>\n",
       "      <td>0</td>\n",
       "      <td>0</td>\n",
       "      <td>0</td>\n",
       "      <td>0</td>\n",
       "      <td>0</td>\n",
       "      <td>0</td>\n",
       "      <td>0</td>\n",
       "      <td>div</td>\n",
       "    </tr>\n",
       "    <tr>\n",
       "      <th>4</th>\n",
       "      <td>0</td>\n",
       "      <td>0</td>\n",
       "      <td>0</td>\n",
       "      <td>0</td>\n",
       "      <td>0</td>\n",
       "      <td>0</td>\n",
       "      <td>0</td>\n",
       "      <td>141</td>\n",
       "      <td>255</td>\n",
       "      <td>255</td>\n",
       "      <td>...</td>\n",
       "      <td>0</td>\n",
       "      <td>0</td>\n",
       "      <td>0</td>\n",
       "      <td>0</td>\n",
       "      <td>0</td>\n",
       "      <td>0</td>\n",
       "      <td>0</td>\n",
       "      <td>0</td>\n",
       "      <td>0</td>\n",
       "      <td>div</td>\n",
       "    </tr>\n",
       "  </tbody>\n",
       "</table>\n",
       "<p>5 rows × 785 columns</p>\n",
       "</div>"
      ],
      "text/plain": [
       "   0    1    2    3    4    5   6    7    8    9    ... 775 776 777 778 779  \\\n",
       "0   73  255  255  255  255  218   0    0    0    0  ...   0   0   0   0   0   \n",
       "1    0    0    0    0    0    0   0    0    0    0  ...   0   0   0   0   0   \n",
       "2  255   23    0    0    0    0   0    0    0    0  ...   0   0   0   0   0   \n",
       "3    0    0    0    0    0    0   0    0    0    0  ...   0   0   0   0   0   \n",
       "4    0    0    0    0    0    0   0  141  255  255  ...   0   0   0   0   0   \n",
       "\n",
       "  780 781 782 783  784  \n",
       "0   0   0   0   0  div  \n",
       "1   0   0   0   0  div  \n",
       "2   0   0   0   0  div  \n",
       "3   0   0   0   0  div  \n",
       "4   0   0   0   0  div  \n",
       "\n",
       "[5 rows x 785 columns]"
      ]
     },
     "execution_count": 16,
     "metadata": {},
     "output_type": "execute_result"
    }
   ],
   "source": [
    "df.head()"
   ]
  },
  {
   "cell_type": "markdown",
   "metadata": {},
   "source": [
    "## Save DataFrame to CSV file"
   ]
  },
  {
   "cell_type": "code",
   "execution_count": 17,
   "metadata": {
    "id": "dS5tr6go5Qcg"
   },
   "outputs": [],
   "source": [
    "# Save DataFrame to CSV file\n",
    "df.to_csv(os.path.join(base_folder, 'input_data.csv'), index=False)"
   ]
  }
 ],
 "metadata": {
  "colab": {
   "authorship_tag": "ABX9TyNda5AYz8791+wjvxsYM8YC",
   "include_colab_link": true,
   "name": "0_DataExtraction.ipynb",
   "provenance": []
  },
  "interpreter": {
   "hash": "dccdfb7cdb727d49639f6c92e3eac374fc598b95046d2744ef8496f8c9ef8c8a"
  },
  "kernelspec": {
   "display_name": "Python 3.8.6 64-bit ('pyimgsearch-env': conda)",
   "language": "python",
   "name": "python386jvsc74a57bd0dccdfb7cdb727d49639f6c92e3eac374fc598b95046d2744ef8496f8c9ef8c8a"
  },
  "language_info": {
   "codemirror_mode": {
    "name": "ipython",
    "version": 3
   },
   "file_extension": ".py",
   "mimetype": "text/x-python",
   "name": "python",
   "nbconvert_exporter": "python",
   "pygments_lexer": "ipython3",
   "version": "3.8.6"
  }
 },
 "nbformat": 4,
 "nbformat_minor": 2
}
