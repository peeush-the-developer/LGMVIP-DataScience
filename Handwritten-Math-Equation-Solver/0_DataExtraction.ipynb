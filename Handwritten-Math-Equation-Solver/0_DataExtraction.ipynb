{
  "nbformat": 4,
  "nbformat_minor": 0,
  "metadata": {
    "colab": {
      "name": "0_DataExtraction.ipynb",
      "provenance": [],
      "authorship_tag": "ABX9TyNda5AYz8791+wjvxsYM8YC",
      "include_colab_link": true
    },
    "kernelspec": {
      "name": "python3",
      "display_name": "Python 3"
    },
    "language_info": {
      "name": "python"
    }
  },
  "cells": [
    {
      "cell_type": "markdown",
      "metadata": {
        "id": "view-in-github",
        "colab_type": "text"
      },
      "source": [
        "<a href=\"https://colab.research.google.com/github/peeush-the-developer/LGMVIP-DataScience/blob/main/Handwritten-Math-Equation-Solver/0_DataExtraction.ipynb\" target=\"_parent\"><img src=\"https://colab.research.google.com/assets/colab-badge.svg\" alt=\"Open In Colab\"/></a>"
      ]
    },
    {
      "cell_type": "markdown",
      "metadata": {
        "id": "R-em1mtmgqFb"
      },
      "source": [
        "# Data extraction\n",
        "\n",
        "- Fetch upto 4000 images if number of images > 4000 per class.\n",
        "- Then, resize each image into 28x28 and then convert it into 784 vector\n",
        "- Then, prepare the dataframe with all the image vectors and add label to each vector\n",
        "- Then, save the dataframe to a CSV file."
      ]
    },
    {
      "cell_type": "code",
      "metadata": {
        "id": "4eovGod9gkrm"
      },
      "source": [
        "# Import libraries\n",
        "import os\n",
        "import random"
      ],
      "execution_count": 1,
      "outputs": []
    },
    {
      "cell_type": "code",
      "metadata": {
        "colab": {
          "base_uri": "https://localhost:8080/"
        },
        "id": "vj1y7KC6VlXY",
        "outputId": "ca92a0f5-3b3a-4202-d832-3d3be454e1e5"
      },
      "source": [
        "# Mount Google drive in the notebook\n",
        "from google.colab import drive\n",
        "drive.mount('/gdrive')"
      ],
      "execution_count": 2,
      "outputs": [
        {
          "output_type": "stream",
          "text": [
            "Drive already mounted at /gdrive; to attempt to forcibly remount, call drive.mount(\"/gdrive\", force_remount=True).\n"
          ],
          "name": "stdout"
        }
      ]
    },
    {
      "cell_type": "code",
      "metadata": {
        "id": "fR6MISrZVr5p"
      },
      "source": [
        "base_folder = '/gdrive/My Drive/Projects/Handwritten-Math-Equation-Solver'\n",
        "input_folder = os.path.join(base_folder, 'input_images')"
      ],
      "execution_count": 3,
      "outputs": []
    },
    {
      "cell_type": "markdown",
      "metadata": {
        "id": "bhOg1vH0kFQq"
      },
      "source": [
        "## 1. Fetch upto 4000 images if number of images > 4000 per class"
      ]
    },
    {
      "cell_type": "code",
      "metadata": {
        "colab": {
          "base_uri": "https://localhost:8080/"
        },
        "id": "xmMPv4K-gCJB",
        "outputId": "9f568005-5a13-4160-851a-603bd42bfd25"
      },
      "source": [
        "# Check no. of images in each class\n",
        "items_count_dict = {}\n",
        "for folder in os.listdir(input_folder):\n",
        "  folder_path = os.path.join(input_folder, folder)\n",
        "  if not os.path.isdir(folder_path):\n",
        "    continue\n",
        "  items = os.listdir(folder_path)\n",
        "  items_count_dict[folder] = len(items)\n",
        "\n",
        "sorted_items = sorted(items_count_dict.items(), key=lambda x:x[1])\n",
        "items_count_dict_sorted = dict(sorted_items)\n",
        "print(items_count_dict_sorted.items())"
      ],
      "execution_count": 4,
      "outputs": [
        {
          "output_type": "stream",
          "text": [
            "dict_items([('div', 868), ('7', 2909), ('6', 3118), ('8', 3138), ('times', 3270), ('5', 3555), ('9', 3737), ('3', 4000), ('4', 4000), ('1', 4000), ('+', 4000), ('-', 4000), ('=', 4000), ('2', 4000), ('0', 4000)])\n"
          ],
          "name": "stdout"
        }
      ]
    },
    {
      "cell_type": "code",
      "metadata": {
        "id": "EK9fawd2if3r"
      },
      "source": [
        "# To keep the sample size limited, we take <4000 images randomly for each class.\n",
        "threshold = 4000"
      ],
      "execution_count": 5,
      "outputs": []
    },
    {
      "cell_type": "code",
      "metadata": {
        "colab": {
          "base_uri": "https://localhost:8080/"
        },
        "id": "kRmTS0m5iwm3",
        "outputId": "50108955-4f86-4c31-98e1-2e987eb04459"
      },
      "source": [
        "items_count_dict = {}\n",
        "\n",
        "# Iterate over all classes folders\n",
        "for folder in os.listdir(input_folder):\n",
        "  folder_path = os.path.join(input_folder, folder)\n",
        "  if not os.path.isdir(folder_path):\n",
        "    continue\n",
        "\n",
        "  # fetch filenames in the class folder\n",
        "  items = os.listdir(folder_path)\n",
        "  \n",
        "  # vars for bookeeping\n",
        "  items_orig_len = len(items)\n",
        "  deleted_files_len = 0\n",
        "\n",
        "  if len(items) > threshold:\n",
        "    # Fetch random filenames upto threshold from all filenames\n",
        "    random_files = random.sample(items, threshold)\n",
        "    # Take difference of filenames to be deleted\n",
        "    to_delete_files = set(items) - set(random_files)\n",
        "    \n",
        "    # vars for bookeeping\n",
        "    deleted_files_len = len(to_delete_files)\n",
        "    # Delete files (not selected in random sampling)\n",
        "    for item in to_delete_files:\n",
        "      os.remove(os.path.join(folder_path, item))\n",
        "\n",
        "  # fetch filenames in the class folder again\n",
        "  items = os.listdir(folder_path)\n",
        "  # Print resultant metric for the class folder\n",
        "  print(f'{folder:<6} {items_orig_len:>5} {deleted_files_len:>4} {len(items):>4}')\n",
        "\n",
        "  # Add items len in the dict\n",
        "  items_count_dict[folder] = len(items)"
      ],
      "execution_count": 6,
      "outputs": [
        {
          "output_type": "stream",
          "text": [
            "5       3555    0 3555\n",
            "3       4000    0 4000\n",
            "6       3118    0 3118\n",
            "4       4000    0 4000\n",
            "1       4000    0 4000\n",
            "8       3138    0 3138\n",
            "+       4000    0 4000\n",
            "-       4000    0 4000\n",
            "=       4000    0 4000\n",
            "2       4000    0 4000\n",
            "7       2909    0 2909\n",
            "0       4000    0 4000\n",
            "9       3737    0 3737\n",
            "div      868    0  868\n",
            "times   3270    0 3270\n"
          ],
          "name": "stdout"
        }
      ]
    },
    {
      "cell_type": "code",
      "metadata": {
        "colab": {
          "base_uri": "https://localhost:8080/"
        },
        "id": "EqKSEnfqjxIj",
        "outputId": "49f9a168-5387-4d43-de20-e5062f03b254"
      },
      "source": [
        "# Print the dictionary with len of items in each class folder\n",
        "print(items_count_dict.items())"
      ],
      "execution_count": 7,
      "outputs": [
        {
          "output_type": "stream",
          "text": [
            "dict_items([('5', 3555), ('3', 4000), ('6', 3118), ('4', 4000), ('1', 4000), ('8', 3138), ('+', 4000), ('-', 4000), ('=', 4000), ('2', 4000), ('7', 2909), ('0', 4000), ('9', 3737), ('div', 868), ('times', 3270)])\n"
          ],
          "name": "stdout"
        }
      ]
    },
    {
      "cell_type": "markdown",
      "metadata": {
        "id": "B9InU9NKleSS"
      },
      "source": [
        "## 2. Apply image transformations and then convert to 784 vector for each image"
      ]
    },
    {
      "cell_type": "code",
      "metadata": {
        "id": "WvPzqo-ylT2B"
      },
      "source": [
        "# Import libraries\n",
        "import pandas as pd\n",
        "import numpy as np\n",
        "import cv2\n",
        "\n",
        "import matplotlib.pyplot as plt\n",
        "%matplotlib inline"
      ],
      "execution_count": 8,
      "outputs": []
    },
    {
      "cell_type": "code",
      "metadata": {
        "id": "gt-UYta3mw3W"
      },
      "source": [
        "def read_img_to_gray(img_filepath):\n",
        "  img = cv2.imread(img_filepath)\n",
        "  imgray = cv2.cvtColor(img, cv2.COLOR_BGR2GRAY)\n",
        "  return imgray"
      ],
      "execution_count": 9,
      "outputs": []
    },
    {
      "cell_type": "code",
      "metadata": {
        "id": "iI9-lk1Wl1w9"
      },
      "source": [
        "def resize_img(imgray, resize=(28,28)):\n",
        "  '''\n",
        "  Resize the image by finding contours around the math symbol and then resize it to 28x28 shape\n",
        "\n",
        "  Arguments:\n",
        "    imgray: Image in grayscale\n",
        "\n",
        "  Returns:\n",
        "    Resized image of 28x28 shape\n",
        "  '''\n",
        "  ret, thresh = cv2.threshold(imgray, 127, 255, cv2.THRESH_BINARY)\n",
        "  contours, hierarchy = cv2.findContours(thresh, cv2.RETR_EXTERNAL, cv2.CHAIN_APPROX_NONE)\n",
        "  # contours, hierarchy = cv2.findContours(thresh, cv2.RETR_TREE, cv2.CHAIN_APPROX_SIMPLE)\n",
        "  # print('Number of contours:', len(contours))\n",
        "  # print(hierarchy.shape)\n",
        "  cnt = sorted(contours, key = lambda ctr: cv2.boundingRect(ctr)[0])\n",
        "  w, h = resize\n",
        "  max_size = 0\n",
        "  for c in cnt:\n",
        "    x, y, w, h = cv2.boundingRect(c)\n",
        "    # print(x, y, w, h)\n",
        "    max_size = max(w*h, max_size)\n",
        "    if max_size == w*h:\n",
        "      x_max = x\n",
        "      y_max = y\n",
        "      w_max = w\n",
        "      h_max = h\n",
        "  cropped_img = thresh[y_max:y_max+h_max+10, x_max:x_max+w_max+10]\n",
        "  resized_img = cv2.resize(cropped_img, resize)\n",
        "  # print(imgray.shape)\n",
        "  # print(resized_img.shape)\n",
        "  # resized_img=np.reshape(resized_img,(784,1))\n",
        "  return resized_img"
      ],
      "execution_count": 10,
      "outputs": []
    },
    {
      "cell_type": "code",
      "metadata": {
        "id": "rtzamrgV1eqO"
      },
      "source": [
        "def convert_img_to_vector(img_resized, vec_size=784):\n",
        "  return np.reshape(img_resized, (vec_size, 1))"
      ],
      "execution_count": 11,
      "outputs": []
    },
    {
      "cell_type": "code",
      "metadata": {
        "id": "YLjS3eN-2i22"
      },
      "source": [
        "data = []\n",
        "for folder in os.listdir(input_folder):\n",
        "  folder_path = os.path.join(input_folder, folder)\n",
        "  if not os.path.isdir(folder_path):\n",
        "    continue\n",
        "  \n",
        "  for img in os.listdir(folder_path):\n",
        "    imgray = read_img_to_gray(os.path.join(folder_path, img))\n",
        "    img_resized = resize_img(imgray)\n",
        "    img_vector = convert_img_to_vector(img_resized)\n",
        "    data.append(np.append(img_vector, [folder]))\n",
        "\n",
        "print(data[:5])"
      ],
      "execution_count": null,
      "outputs": []
    },
    {
      "cell_type": "code",
      "metadata": {
        "id": "WZ2MUQY44SZx"
      },
      "source": [
        "df = pd.DataFrame(data, index=None)"
      ],
      "execution_count": null,
      "outputs": []
    },
    {
      "cell_type": "code",
      "metadata": {
        "id": "vxSv3FMB6rIg"
      },
      "source": [
        "df.head()"
      ],
      "execution_count": null,
      "outputs": []
    },
    {
      "cell_type": "code",
      "metadata": {
        "id": "dS5tr6go5Qcg"
      },
      "source": [
        "# Save DataFrame to CSV file\n",
        "df.to_csv(os.path.join(base_folder, 'input_data.csv'), index=False)"
      ],
      "execution_count": null,
      "outputs": []
    },
    {
      "cell_type": "code",
      "metadata": {
        "id": "FkEgSfot6tSY"
      },
      "source": [
        ""
      ],
      "execution_count": null,
      "outputs": []
    }
  ]
}