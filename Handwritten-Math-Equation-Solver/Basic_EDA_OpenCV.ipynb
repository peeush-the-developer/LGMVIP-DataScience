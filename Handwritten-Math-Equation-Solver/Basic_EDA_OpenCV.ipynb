{
  "nbformat": 4,
  "nbformat_minor": 2,
  "metadata": {
    "colab": {
      "name": "Handwritten_Math_Eqn_Solver.ipynb",
      "provenance": [],
      "authorship_tag": "ABX9TyO9vhYDpIGtie6mG0lieaAO",
      "include_colab_link": true
    },
    "kernelspec": {
      "name": "python3",
      "display_name": "Python 3.8.6 64-bit (conda)"
    },
    "language_info": {
      "name": "python",
      "version": "3.8.6",
      "mimetype": "text/x-python",
      "codemirror_mode": {
        "name": "ipython",
        "version": 3
      },
      "pygments_lexer": "ipython3",
      "nbconvert_exporter": "python",
      "file_extension": ".py"
    },
    "interpreter": {
      "hash": "dccdfb7cdb727d49639f6c92e3eac374fc598b95046d2744ef8496f8c9ef8c8a"
    }
  },
  "cells": [
    {
      "cell_type": "markdown",
      "source": [
        "<a href=\"https://colab.research.google.com/github/peeush-the-developer/LGMVIP-DataScience/blob/main/Handwritten-Math-Equation-Solver/1_CNN_model.ipynb\" target=\"_parent\"><img src=\"https://colab.research.google.com/assets/colab-badge.svg\" alt=\"Open In Colab\"/></a>"
      ],
      "metadata": {
        "id": "view-in-github",
        "colab_type": "text"
      }
    },
    {
      "cell_type": "markdown",
      "source": [
        "# Handwritten Math Equation solver\n",
        "\n",
        "We can approach this problem statement in the following steps:\n",
        "\n",
        "1. We are given a dataset of images for different Math symbols using which we can train our Image classification model to classify images as math symbols.\n",
        "2. Next, we take an image with complete math equation and try to segregate each symbol into smaller images\n",
        "3. Pass these smaller images to find the actual symbol and then solve the equation as a normal math equation.\n",
        "\n",
        "Easy huh!\n",
        "\n",
        "Let's get started!"
      ],
      "metadata": {
        "id": "WMUG1_A98gSw"
      }
    },
    {
      "cell_type": "markdown",
      "source": [
        "## Download the dataset with math symbol images\n",
        "\n",
        "This is the [Dataset link](https://www.kaggle.com/xainano/handwrittenmathsymbols) which contains `data.rar` file and unzip the file after downloading.\n",
        "\n",
        "The dataset contains different images for each math symbol as well as alphanumeric characters."
      ],
      "metadata": {}
    },
    {
      "cell_type": "markdown",
      "source": [
        "In this notebook, we'll get familarize with the dataset.\n",
        "\n",
        "Understand the folder structure and plot random images to get basic understanding about the images."
      ],
      "metadata": {}
    },
    {
      "cell_type": "code",
      "execution_count": 40,
      "source": [
        "# Import libraries\n",
        "import os\n",
        "import random\n",
        "\n",
        "import numpy as np\n",
        "import cv2\n",
        "\n",
        "import matplotlib.pyplot as plt\n",
        "%matplotlib inline"
      ],
      "outputs": [],
      "metadata": {
        "id": "QtAQxNZn8X-C"
      }
    },
    {
      "cell_type": "code",
      "execution_count": 25,
      "source": [
        "cv2.__version__"
      ],
      "outputs": [
        {
          "output_type": "execute_result",
          "data": {
            "text/plain": [
              "'4.5.0'"
            ]
          },
          "metadata": {},
          "execution_count": 25
        }
      ],
      "metadata": {}
    },
    {
      "cell_type": "code",
      "execution_count": 26,
      "source": [
        "input_folder = 'data/input_images'"
      ],
      "outputs": [],
      "metadata": {}
    },
    {
      "cell_type": "markdown",
      "source": [
        "For simplicity of the notebook, we have extracted images only for 0-9 numeric digits and operations, '=', '+', '-', 'div', 'times'."
      ],
      "metadata": {}
    },
    {
      "cell_type": "code",
      "execution_count": 27,
      "source": [
        "folder_names = [folder for folder in os.listdir(input_folder)]\n",
        "print(sorted(folder_names))"
      ],
      "outputs": [
        {
          "output_type": "stream",
          "name": "stdout",
          "text": [
            "['+', '-', '0', '1', '2', '3', '4', '5', '6', '7', '8', '9', '=', 'div', 'times']\n"
          ]
        }
      ],
      "metadata": {}
    },
    {
      "cell_type": "code",
      "execution_count": 28,
      "source": [
        "base_folder = os.path.join('data', 'input_images')"
      ],
      "outputs": [],
      "metadata": {}
    },
    {
      "cell_type": "code",
      "execution_count": 29,
      "source": [
        "def load_image_random(folder_name):\n",
        "    '''\n",
        "    Random image from the specified folder\n",
        "\n",
        "    Arguments:\n",
        "      folder_name: Specific folder name from which the image is picked\n",
        "\n",
        "    Returns:\n",
        "      Image in grayscale in the form of Numpy 2D array\n",
        "    '''\n",
        "    folder = os.path.join(base_folder, folder_name)\n",
        "    # print(folder)\n",
        "    img_files = os.listdir(folder)\n",
        "    rand_index = np.random.randint(len(img_files))\n",
        "    # print(rand_int, img_files[rand_index])\n",
        "    img = cv2.imread(os.path.join(folder, img_files[rand_index]))\n",
        "    img = cv2.cvtColor(img, cv2.COLOR_BGR2GRAY)\n",
        "    return img, rand_index"
      ],
      "outputs": [],
      "metadata": {}
    },
    {
      "cell_type": "code",
      "execution_count": 30,
      "source": [
        "def display_image(imgray):\n",
        "    '''\n",
        "    Plot an image\n",
        "\n",
        "    Arguments:\n",
        "      imgray: Image in grayscale i.e. Numpy 2D array\n",
        "    '''\n",
        "    plt.imshow(imgray, cmap='gray')\n",
        "    plt.axis('off')\n",
        "    plt.show()"
      ],
      "outputs": [],
      "metadata": {}
    },
    {
      "cell_type": "code",
      "execution_count": 31,
      "source": [
        "def display_image_grid(imgray1, imgray2):\n",
        "    '''\n",
        "    Plot an image grid with 2 images\n",
        "\n",
        "    Arguments:\n",
        "      imgray1: Image in grayscale i.e. Numpy 2D array\n",
        "      imgray2: Image in grayscale i.e. Numpy 2D array\n",
        "    '''\n",
        "    plt.subplot(121)\n",
        "    plt.imshow(imgray1, cmap='gray')\n",
        "    plt.axis('off')\n",
        "    plt.title(\"Image 1\")\n",
        "    \n",
        "    plt.subplot(122)\n",
        "    plt.imshow(imgray2, cmap='gray')\n",
        "    plt.axis('off')\n",
        "    plt.title(\"Image 2\")\n",
        "    \n",
        "    plt.show()"
      ],
      "outputs": [],
      "metadata": {}
    },
    {
      "cell_type": "code",
      "execution_count": 32,
      "source": [
        "def resize_image(imgray, resize=(28,28)):\n",
        "    '''\n",
        "    Resize the image by finding contours around the math symbol and then resize it to 28x28 shape\n",
        "\n",
        "    Arguments:\n",
        "      imgray: Image in grayscale\n",
        "\n",
        "    Returns:\n",
        "      Resized image of 28x28 shape\n",
        "    '''\n",
        "    ret, thresh = cv2.threshold(imgray, 127, 255, cv2.THRESH_BINARY)\n",
        "    contours, hierarchy = cv2.findContours(thresh, cv2.RETR_EXTERNAL, cv2.CHAIN_APPROX_NONE)\n",
        "    # contours, hierarchy = cv2.findContours(thresh, cv2.RETR_TREE, cv2.CHAIN_APPROX_SIMPLE)\n",
        "    # print('Number of contours:', len(contours))\n",
        "    # print(hierarchy.shape)\n",
        "    cnt = sorted(contours, key = lambda ctr: cv2.boundingRect(ctr)[0])\n",
        "    w, h = resize\n",
        "    max_size = 0\n",
        "    for c in cnt:\n",
        "        x, y, w, h = cv2.boundingRect(c)\n",
        "        # print(x, y, w, h)\n",
        "        max_size = max(w*h, max_size)\n",
        "        if max_size == w*h:\n",
        "            x_max = x\n",
        "            y_max = y\n",
        "            w_max = w\n",
        "            h_max = h\n",
        "    cropped_img = thresh[y_max:y_max+h_max+10, x_max:x_max+w_max+10]\n",
        "    resized_img = cv2.resize(cropped_img, resize)\n",
        "    # print(imgray.shape)\n",
        "    # print(resized_img.shape)\n",
        "    # resized_img=np.reshape(resized_img,(784,1))\n",
        "    return resized_img"
      ],
      "outputs": [],
      "metadata": {}
    },
    {
      "cell_type": "code",
      "execution_count": 33,
      "source": [
        "def display_result(folder_name):\n",
        "    imgray, index = load_image_random(folder_name)\n",
        "    print('Image at index', index, ' in', folder_name, 'is:')\n",
        "    img_bb = resize_image(~imgray)\n",
        "    display_image_grid(~imgray, img_bb)\n",
        "    # display_image(imgray)\n",
        "    # display_image(img_bb)"
      ],
      "outputs": [],
      "metadata": {}
    },
    {
      "cell_type": "code",
      "execution_count": 34,
      "source": [
        "display_result('0')"
      ],
      "outputs": [
        {
          "output_type": "stream",
          "name": "stdout",
          "text": [
            "Image at index 6090  in 0 is:\n"
          ]
        },
        {
          "output_type": "display_data",
          "data": {
            "text/plain": [
              "<Figure size 432x288 with 2 Axes>"
            ],
            "image/svg+xml": "<?xml version=\"1.0\" encoding=\"utf-8\" standalone=\"no\"?>\n<!DOCTYPE svg PUBLIC \"-//W3C//DTD SVG 1.1//EN\"\n  \"http://www.w3.org/Graphics/SVG/1.1/DTD/svg11.dtd\">\n<svg height=\"181.699943pt\" version=\"1.1\" viewBox=\"0 0 349.2 181.699943\" width=\"349.2pt\" xmlns=\"http://www.w3.org/2000/svg\" xmlns:xlink=\"http://www.w3.org/1999/xlink\">\n <metadata>\n  <rdf:RDF xmlns:cc=\"http://creativecommons.org/ns#\" xmlns:dc=\"http://purl.org/dc/elements/1.1/\" xmlns:rdf=\"http://www.w3.org/1999/02/22-rdf-syntax-ns#\">\n   <cc:Work>\n    <dc:type rdf:resource=\"http://purl.org/dc/dcmitype/StillImage\"/>\n    <dc:date>2021-08-28T14:28:10.785261</dc:date>\n    <dc:format>image/svg+xml</dc:format>\n    <dc:creator>\n     <cc:Agent>\n      <dc:title>Matplotlib v3.4.2, https://matplotlib.org/</dc:title>\n     </cc:Agent>\n    </dc:creator>\n   </cc:Work>\n  </rdf:RDF>\n </metadata>\n <defs>\n  <style type=\"text/css\">*{stroke-linecap:butt;stroke-linejoin:round;}</style>\n </defs>\n <g id=\"figure_1\">\n  <g id=\"patch_1\">\n   <path d=\"M 0 181.699943 \nL 349.2 181.699943 \nL 349.2 0 \nL 0 0 \nz\n\" style=\"fill:none;\"/>\n  </g>\n  <g id=\"axes_1\">\n   <g clip-path=\"url(#peafc4db75c)\">\n    <image height=\"153\" id=\"imagedc460e1464\" transform=\"scale(1 -1)translate(0 -153)\" width=\"153\" x=\"7.2\" xlink:href=\"data:image/png;base64,\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\" y=\"-21.499943\"/>\n   </g>\n   <g id=\"text_1\">\n    <!-- Image 1 -->\n    <g transform=\"translate(58.774347 16.318125)scale(0.12 -0.12)\">\n     <defs>\n      <path d=\"M 628 4666 \nL 1259 4666 \nL 1259 0 \nL 628 0 \nL 628 4666 \nz\n\" id=\"DejaVuSans-49\" transform=\"scale(0.015625)\"/>\n      <path d=\"M 3328 2828 \nQ 3544 3216 3844 3400 \nQ 4144 3584 4550 3584 \nQ 5097 3584 5394 3201 \nQ 5691 2819 5691 2113 \nL 5691 0 \nL 5113 0 \nL 5113 2094 \nQ 5113 2597 4934 2840 \nQ 4756 3084 4391 3084 \nQ 3944 3084 3684 2787 \nQ 3425 2491 3425 1978 \nL 3425 0 \nL 2847 0 \nL 2847 2094 \nQ 2847 2600 2669 2842 \nQ 2491 3084 2119 3084 \nQ 1678 3084 1418 2786 \nQ 1159 2488 1159 1978 \nL 1159 0 \nL 581 0 \nL 581 3500 \nL 1159 3500 \nL 1159 2956 \nQ 1356 3278 1631 3431 \nQ 1906 3584 2284 3584 \nQ 2666 3584 2933 3390 \nQ 3200 3197 3328 2828 \nz\n\" id=\"DejaVuSans-6d\" transform=\"scale(0.015625)\"/>\n      <path d=\"M 2194 1759 \nQ 1497 1759 1228 1600 \nQ 959 1441 959 1056 \nQ 959 750 1161 570 \nQ 1363 391 1709 391 \nQ 2188 391 2477 730 \nQ 2766 1069 2766 1631 \nL 2766 1759 \nL 2194 1759 \nz\nM 3341 1997 \nL 3341 0 \nL 2766 0 \nL 2766 531 \nQ 2569 213 2275 61 \nQ 1981 -91 1556 -91 \nQ 1019 -91 701 211 \nQ 384 513 384 1019 \nQ 384 1609 779 1909 \nQ 1175 2209 1959 2209 \nL 2766 2209 \nL 2766 2266 \nQ 2766 2663 2505 2880 \nQ 2244 3097 1772 3097 \nQ 1472 3097 1187 3025 \nQ 903 2953 641 2809 \nL 641 3341 \nQ 956 3463 1253 3523 \nQ 1550 3584 1831 3584 \nQ 2591 3584 2966 3190 \nQ 3341 2797 3341 1997 \nz\n\" id=\"DejaVuSans-61\" transform=\"scale(0.015625)\"/>\n      <path d=\"M 2906 1791 \nQ 2906 2416 2648 2759 \nQ 2391 3103 1925 3103 \nQ 1463 3103 1205 2759 \nQ 947 2416 947 1791 \nQ 947 1169 1205 825 \nQ 1463 481 1925 481 \nQ 2391 481 2648 825 \nQ 2906 1169 2906 1791 \nz\nM 3481 434 \nQ 3481 -459 3084 -895 \nQ 2688 -1331 1869 -1331 \nQ 1566 -1331 1297 -1286 \nQ 1028 -1241 775 -1147 \nL 775 -588 \nQ 1028 -725 1275 -790 \nQ 1522 -856 1778 -856 \nQ 2344 -856 2625 -561 \nQ 2906 -266 2906 331 \nL 2906 616 \nQ 2728 306 2450 153 \nQ 2172 0 1784 0 \nQ 1141 0 747 490 \nQ 353 981 353 1791 \nQ 353 2603 747 3093 \nQ 1141 3584 1784 3584 \nQ 2172 3584 2450 3431 \nQ 2728 3278 2906 2969 \nL 2906 3500 \nL 3481 3500 \nL 3481 434 \nz\n\" id=\"DejaVuSans-67\" transform=\"scale(0.015625)\"/>\n      <path d=\"M 3597 1894 \nL 3597 1613 \nL 953 1613 \nQ 991 1019 1311 708 \nQ 1631 397 2203 397 \nQ 2534 397 2845 478 \nQ 3156 559 3463 722 \nL 3463 178 \nQ 3153 47 2828 -22 \nQ 2503 -91 2169 -91 \nQ 1331 -91 842 396 \nQ 353 884 353 1716 \nQ 353 2575 817 3079 \nQ 1281 3584 2069 3584 \nQ 2775 3584 3186 3129 \nQ 3597 2675 3597 1894 \nz\nM 3022 2063 \nQ 3016 2534 2758 2815 \nQ 2500 3097 2075 3097 \nQ 1594 3097 1305 2825 \nQ 1016 2553 972 2059 \nL 3022 2063 \nz\n\" id=\"DejaVuSans-65\" transform=\"scale(0.015625)\"/>\n      <path id=\"DejaVuSans-20\" transform=\"scale(0.015625)\"/>\n      <path d=\"M 794 531 \nL 1825 531 \nL 1825 4091 \nL 703 3866 \nL 703 4441 \nL 1819 4666 \nL 2450 4666 \nL 2450 531 \nL 3481 531 \nL 3481 0 \nL 794 0 \nL 794 531 \nz\n\" id=\"DejaVuSans-31\" transform=\"scale(0.015625)\"/>\n     </defs>\n     <use xlink:href=\"#DejaVuSans-49\"/>\n     <use x=\"29.492188\" xlink:href=\"#DejaVuSans-6d\"/>\n     <use x=\"126.904297\" xlink:href=\"#DejaVuSans-61\"/>\n     <use x=\"188.183594\" xlink:href=\"#DejaVuSans-67\"/>\n     <use x=\"251.660156\" xlink:href=\"#DejaVuSans-65\"/>\n     <use x=\"313.183594\" xlink:href=\"#DejaVuSans-20\"/>\n     <use x=\"344.970703\" xlink:href=\"#DejaVuSans-31\"/>\n    </g>\n   </g>\n  </g>\n  <g id=\"axes_2\">\n   <g clip-path=\"url(#pe4d26f60cd)\">\n    <image height=\"153\" id=\"image6ba548ee9f\" transform=\"scale(1 -1)translate(0 -153)\" width=\"153\" x=\"189.818182\" xlink:href=\"data:image/png;base64,\niVBORw0KGgoAAAANSUhEUgAAAJkAAACZCAYAAAA8XJi6AAAEZ0lEQVR4nO3dvyt9cRzH8eOb35FyBwbDHdxIqctwDZLZgmyUZLCRsjFdk/wTqLuZZGIw3CxKCVksBqVIV4yX8F2+fZf3+3Kvc1+ujudjfPe5937yffbpnK/bURUEwXsACP2p9AYQfUQGOSKDHJFBjsggR2SQIzLIERnkiAxyRAY5IoMckUGOyCBHZJAjMshVV3oDKF06nXbn+XzezNbW1sS7+RwnGeSIDHJEBjkigxyRQY67S6Hqav/He3d3F+p9E4mEO29qajKzXC7nro3FYqH2UApOMsgRGeSIDHJEBjku/Es0MjLizqempszs7e3NXau66H54eCj6szKZjJlls1l37fHxsZmdnZ0VvS9OMsgRGeSIDHJEBjkigxx3lx/o6uoys8bGRnft9PS0ejtl5e03mUy6a0dHR82Mu0v8KEQGOSKDHJFBjgv/f+LxuJmtrKyY2czMzDfspjJOT0/deV9fn5n19/e7a09OTsyMkwxyRAY5IoMckUGOyCBXFfC3lYIgCILl5WUz+wnPkfipbm9v3Xl7e7uZcZJBjsggR2SQIzLIRfrCv66uzsyur6/dtW1tbertREqhn1cqlTIzTjLIERnkiAxyRAY5IoNcpL+0ODk5aWYdHR0V2MnvxkkGOSKDHJFBjsggF+kLf+jc39+7c+/xB5xkkCMyyBEZ5IgMckQGuUjfXQ4PD5vZ1tbW928kggo9Pt77oignGeSIDHJEBjkig1ykL/yh09ra6s53d3fNjJMMckQGOSKDHJFBjsggF4m7y56eHnd+dXX1zTv5PQo9Yv3y8tLMOMkgR2SQIzLIERnkIvEQvMPDQ3c+NDT0zTv5PXj6NX4UIoMckUGOyCAXif/xh1ZDQ4OZPT4+Fv16TjLIERnkiAxyRAY5IoMcd5f41NLSkpl1d3cX/XpOMsgRGeSIDHJEBjku/PGp+vr6UK/nJIMckUGOyCBHZJAjMshxd4n/xsfH3fn5+Xmo9+UkgxyRQY7IIEdkkOPC/5dKpVJmls/n3bU7OzuhPouTDHJEBjkigxyRQY7IIBeJh+AVsrm5aWazs7MV2EnldHZ2uvPFxUUzW1hYkOyBkwxyRAY5IoMckUGOXytFiPewukLfEVNd5Hs4ySBHZJAjMsgRGeSIDHKRvrvMZrNmVlNT4659eXlRb+dLWlpazGxubs5dOz8/b2bxeLzcWyoZJxnkiAxyRAY5IoNcpL9PlkwmzWxsbMxdu7q6Kt7Nx9LptDt/f7f/PEdHR+7a/f39cm6pbDjJIEdkkCMyyBEZ5IgMcpG+u/Q8Pz+789ra2rJ/Vi6XK3ptIpFw509PT2b2+vr65T1VAicZ5IgMckQGOSKDXHUmkwn1Bnt7e6E3sb29bWaq73cVusDf2Ngws4ODAzMbHBx0X9/c3GxmsVisxN1FEycZ5IgMckQGOSKDHJFBLvSvlQYGBkJvYn193czC/rXYUt3c3JjZxMSEmV1cXLiv7+3tLfueooKTDHJEBjkigxyRQe4vSMinSEvd/WsAAAAASUVORK5CYII=\" y=\"-21.499943\"/>\n   </g>\n   <g id=\"text_2\">\n    <!-- Image 2 -->\n    <g transform=\"translate(241.392528 16.318125)scale(0.12 -0.12)\">\n     <defs>\n      <path d=\"M 1228 531 \nL 3431 531 \nL 3431 0 \nL 469 0 \nL 469 531 \nQ 828 903 1448 1529 \nQ 2069 2156 2228 2338 \nQ 2531 2678 2651 2914 \nQ 2772 3150 2772 3378 \nQ 2772 3750 2511 3984 \nQ 2250 4219 1831 4219 \nQ 1534 4219 1204 4116 \nQ 875 4013 500 3803 \nL 500 4441 \nQ 881 4594 1212 4672 \nQ 1544 4750 1819 4750 \nQ 2544 4750 2975 4387 \nQ 3406 4025 3406 3419 \nQ 3406 3131 3298 2873 \nQ 3191 2616 2906 2266 \nQ 2828 2175 2409 1742 \nQ 1991 1309 1228 531 \nz\n\" id=\"DejaVuSans-32\" transform=\"scale(0.015625)\"/>\n     </defs>\n     <use xlink:href=\"#DejaVuSans-49\"/>\n     <use x=\"29.492188\" xlink:href=\"#DejaVuSans-6d\"/>\n     <use x=\"126.904297\" xlink:href=\"#DejaVuSans-61\"/>\n     <use x=\"188.183594\" xlink:href=\"#DejaVuSans-67\"/>\n     <use x=\"251.660156\" xlink:href=\"#DejaVuSans-65\"/>\n     <use x=\"313.183594\" xlink:href=\"#DejaVuSans-20\"/>\n     <use x=\"344.970703\" xlink:href=\"#DejaVuSans-32\"/>\n    </g>\n   </g>\n  </g>\n </g>\n <defs>\n  <clipPath id=\"peafc4db75c\">\n   <rect height=\"152.181818\" width=\"152.181818\" x=\"7.2\" y=\"22.318125\"/>\n  </clipPath>\n  <clipPath id=\"pe4d26f60cd\">\n   <rect height=\"152.181818\" width=\"152.181818\" x=\"189.818182\" y=\"22.318125\"/>\n  </clipPath>\n </defs>\n</svg>\n",
            "image/png": "[encoded data removed]"
          },
          "metadata": {
            "needs_background": "light"
          }
        }
      ],
      "metadata": {}
    },
    {
      "cell_type": "code",
      "execution_count": 35,
      "source": [
        "display_result('times')"
      ],
      "outputs": [
        {
          "output_type": "stream",
          "name": "stdout",
          "text": [
            "Image at index 1628  in times is:\n"
          ]
        },
        {
          "output_type": "display_data",
          "data": {
            "text/plain": [
              "<Figure size 432x288 with 2 Axes>"
            ],
            "image/svg+xml": "<?xml version=\"1.0\" encoding=\"utf-8\" standalone=\"no\"?>\n<!DOCTYPE svg PUBLIC \"-//W3C//DTD SVG 1.1//EN\"\n  \"http://www.w3.org/Graphics/SVG/1.1/DTD/svg11.dtd\">\n<svg height=\"181.699943pt\" version=\"1.1\" viewBox=\"0 0 349.2 181.699943\" width=\"349.2pt\" xmlns=\"http://www.w3.org/2000/svg\" xmlns:xlink=\"http://www.w3.org/1999/xlink\">\n <metadata>\n  <rdf:RDF xmlns:cc=\"http://creativecommons.org/ns#\" xmlns:dc=\"http://purl.org/dc/elements/1.1/\" xmlns:rdf=\"http://www.w3.org/1999/02/22-rdf-syntax-ns#\">\n   <cc:Work>\n    <dc:type rdf:resource=\"http://purl.org/dc/dcmitype/StillImage\"/>\n    <dc:date>2021-08-28T14:28:10.874320</dc:date>\n    <dc:format>image/svg+xml</dc:format>\n    <dc:creator>\n     <cc:Agent>\n      <dc:title>Matplotlib v3.4.2, https://matplotlib.org/</dc:title>\n     </cc:Agent>\n    </dc:creator>\n   </cc:Work>\n  </rdf:RDF>\n </metadata>\n <defs>\n  <style type=\"text/css\">*{stroke-linecap:butt;stroke-linejoin:round;}</style>\n </defs>\n <g id=\"figure_1\">\n  <g id=\"patch_1\">\n   <path d=\"M 0 181.699943 \nL 349.2 181.699943 \nL 349.2 0 \nL 0 0 \nz\n\" style=\"fill:none;\"/>\n  </g>\n  <g id=\"axes_1\">\n   <g clip-path=\"url(#p25d5247e1d)\">\n    <image height=\"153\" id=\"imagecb14ba942b\" transform=\"scale(1 -1)translate(0 -153)\" width=\"153\" x=\"7.2\" xlink:href=\"data:image/png;base64,\niVBORw0KGgoAAAANSUhEUgAAAJkAAACZCAYAAAA8XJi6AAAG8UlEQVR4nO2d3XLiMAxGA22Zvv+j9qYDbeleLaNo1h+KNx/54ZwrWKfGyWokRZbkwzAMv0ODl5eX2+efn5/WZfK6w+Fw+/z72/ypp+R4PI6+X6/Xf173+vo6+v79/W1bk4Pj/UsA/g+EDOwcrtfrzYa9vb2NBqP6zqYuqvo49qwmMT6P6CIoNyNel7+3TOcWQZOBHYQM7CBkYOdwOBxuTlT2A6KPUH3dzn7Gs/pofzmdTqPvl8tloZUsB5oM7CBkYOcwiIi/Ck3EKHQ0nZjLMep55LHokqjw0dZAk4EdhAzsIGRgZ+STqTCF8guyb9Ea27pvoajep/LJKnPfm3+NoMnADkIGdl7Vzn8ci4mJwzBOnFMmoKra1e5CNZNhSTPS+u18L1W3Y2smUYEmAzsIGdiREf9WBDqjIv6RbHKriXlVs70WcxN3Q3I+frznfC97MpERNBnYQcjADkIGdkZJixnlI0R/LYYYVGbB19fXaCz6Lr3+SLU2dC2ocE/LpyTiD3AHhAzsvFZVryqVV6EDFX6I17bqOPNYDnussT5RPY+eRIOtmccMmgzsIGRgByEDO6MQRvYJlL/T2jpRc6iMhDhH9t2qyX2xl0cOlyyFyijJfu4WQjA9oMnADkIGdmQWhsomiCYsXpfNlDKXERWm6ImSP5rW+vNzyyayNRb/jk6LAHdAyMDO4Xg83mxMtZRr0g8UawiqqB2FtVC9562bwSpoMrCDkIEdhAzsjEIYU9ocVa+bo86wmtWwpH/WWmP2yeJuhrrnrSVjKtBkYAchAzsy4j/7jxVNabUJcp6zel3egG+ZoynuQ+tepoRcqnWuWwNNBnYQMrCDkIGddkqAgeyfRN8o+iC9/ojK8qiGOpRfVB07n8+3z9n/U+tt9RShkATgDggZ2HloCCNTfWVXyZMtVIihenanotrEecouROt5bD1bA00GdhAysLOouWyhTF210e+UN7KWeVMla729+qsNmHtchLWCJgM7CBnYQcjAzkN9sinZFa2/myM7QYUVVCdvlUjYqi/tvecInRYB7oCQgZ2HbpAr1IZw9TAKlcBYDQnEzkB5HdFEnk6n5m9HpphHjocG6AQhAzsIGdhZdFup1RmxWugxDG0/Zo5zN1W2RkxMzGMqUbHKnopK0GRgByEDO6upu+zNae8p569G4adkg7TOl+qt3cRcAkwAIQM7q0xadDNHKZpqP9BTfpfXsSfQZGAHIQM7CBnYWU0WhptqiymFOuihFbZQvptah6oF3VpWBpoM7CBkYOdpQhjVxspVlBmMpi7vQqzxcAs3aDKwg5CBHYQM7DxNCGOOTotVf6qaaZHHWkmc1F0C3AEhAztPYy6rufsqCt9KTLw3f+s61dx4T+zzrmBVIGRg52ki/lV6O/5U5+vp0MjbJcAdEDKwg5CBnacJYURU+KEawlCoWtDqjsJajr2eAzQZ2EHIwM7TmEtlwqohgWq3njh/9XCLf127F/Z5V7AqEDKwg5CBnd1uK03pM9EKK6gsieyfVbtVVzM+VFildaz2lPlb8w1DPVRTBU0GdhAysLNbc9lLzLO/XC6jsWrkXZmzngbJGRUiqc43h0mvgiYDOwgZ2NltxH/KJng8J+nj46M0RzX5UF2XuwTFM5/U30VzrNolKJRJnDspEk0GdhAysIOQgZ2nCWH0dD9UUX332U09BSfDMA5vRJ9vyc7aaDKwg5CBnd2GMDI9OfPKxPS2OlDnM1VNWjWUEudTv6VCKXOAJgM7CBnYQcjAzm5DGI4eFGq+OY6pbv1e/nc1fwy7fH5+3j6/v7831zFH4qMCTQZ2EDKws1tzqV7Z81h8ZZ+j9rHVYHgY6sdZK5PVY87UHHMfpJFBk4EdhAzs7NZcTmGODjrVjjw9LRGUWa0mZ+bN/mjG8xhJi7A5EDKwg5CBnVVmYczR7VnNoaL1vetojfX6N9VWAdU1qkTNPNaqG51yL/GZosnADkIGdh5qLntVe08nnDlQZiSPLZVDn9cRv6udh5ioWK3dVOESFSJBk4EdhAzsIGRgZ9FtpTmOQ46+hSqAUAUccUzNVy3gcFNdR9WHzM9DnevZA5oM7CBkYGc1WRjuxDmVGdFztHN+ZZ+7VlFRbbnQ62ZE8xlNp2rboJI90WRgByEDOw81l7394pUJiGr/fD7fPmf1Heeo5v8v2Qmninqm1Q5C1ftUpjn/X8b/FzQZ2EHIwA5CBnYWDWG0zo9U3ZjVbkD19V35ZCqUUj1G2s3cfmOvr1xuW9W3LIA6CBnYeai5nCN3P9OqT5yygzBHlPyRqAbG1RrSues/M6Pzn8p/BdAJQgZ2EDKwswmfrKcvRK+/Vz2r0uFf9qDW0dOmahj6wiJyq27ybAATQcjAzh90Z0oWKBfxbAAAAABJRU5ErkJggg==\" y=\"-21.499943\"/>\n   </g>\n   <g id=\"text_1\">\n    <!-- Image 1 -->\n    <g transform=\"translate(58.774347 16.318125)scale(0.12 -0.12)\">\n     <defs>\n      <path d=\"M 628 4666 \nL 1259 4666 \nL 1259 0 \nL 628 0 \nL 628 4666 \nz\n\" id=\"DejaVuSans-49\" transform=\"scale(0.015625)\"/>\n      <path d=\"M 3328 2828 \nQ 3544 3216 3844 3400 \nQ 4144 3584 4550 3584 \nQ 5097 3584 5394 3201 \nQ 5691 2819 5691 2113 \nL 5691 0 \nL 5113 0 \nL 5113 2094 \nQ 5113 2597 4934 2840 \nQ 4756 3084 4391 3084 \nQ 3944 3084 3684 2787 \nQ 3425 2491 3425 1978 \nL 3425 0 \nL 2847 0 \nL 2847 2094 \nQ 2847 2600 2669 2842 \nQ 2491 3084 2119 3084 \nQ 1678 3084 1418 2786 \nQ 1159 2488 1159 1978 \nL 1159 0 \nL 581 0 \nL 581 3500 \nL 1159 3500 \nL 1159 2956 \nQ 1356 3278 1631 3431 \nQ 1906 3584 2284 3584 \nQ 2666 3584 2933 3390 \nQ 3200 3197 3328 2828 \nz\n\" id=\"DejaVuSans-6d\" transform=\"scale(0.015625)\"/>\n      <path d=\"M 2194 1759 \nQ 1497 1759 1228 1600 \nQ 959 1441 959 1056 \nQ 959 750 1161 570 \nQ 1363 391 1709 391 \nQ 2188 391 2477 730 \nQ 2766 1069 2766 1631 \nL 2766 1759 \nL 2194 1759 \nz\nM 3341 1997 \nL 3341 0 \nL 2766 0 \nL 2766 531 \nQ 2569 213 2275 61 \nQ 1981 -91 1556 -91 \nQ 1019 -91 701 211 \nQ 384 513 384 1019 \nQ 384 1609 779 1909 \nQ 1175 2209 1959 2209 \nL 2766 2209 \nL 2766 2266 \nQ 2766 2663 2505 2880 \nQ 2244 3097 1772 3097 \nQ 1472 3097 1187 3025 \nQ 903 2953 641 2809 \nL 641 3341 \nQ 956 3463 1253 3523 \nQ 1550 3584 1831 3584 \nQ 2591 3584 2966 3190 \nQ 3341 2797 3341 1997 \nz\n\" id=\"DejaVuSans-61\" transform=\"scale(0.015625)\"/>\n      <path d=\"M 2906 1791 \nQ 2906 2416 2648 2759 \nQ 2391 3103 1925 3103 \nQ 1463 3103 1205 2759 \nQ 947 2416 947 1791 \nQ 947 1169 1205 825 \nQ 1463 481 1925 481 \nQ 2391 481 2648 825 \nQ 2906 1169 2906 1791 \nz\nM 3481 434 \nQ 3481 -459 3084 -895 \nQ 2688 -1331 1869 -1331 \nQ 1566 -1331 1297 -1286 \nQ 1028 -1241 775 -1147 \nL 775 -588 \nQ 1028 -725 1275 -790 \nQ 1522 -856 1778 -856 \nQ 2344 -856 2625 -561 \nQ 2906 -266 2906 331 \nL 2906 616 \nQ 2728 306 2450 153 \nQ 2172 0 1784 0 \nQ 1141 0 747 490 \nQ 353 981 353 1791 \nQ 353 2603 747 3093 \nQ 1141 3584 1784 3584 \nQ 2172 3584 2450 3431 \nQ 2728 3278 2906 2969 \nL 2906 3500 \nL 3481 3500 \nL 3481 434 \nz\n\" id=\"DejaVuSans-67\" transform=\"scale(0.015625)\"/>\n      <path d=\"M 3597 1894 \nL 3597 1613 \nL 953 1613 \nQ 991 1019 1311 708 \nQ 1631 397 2203 397 \nQ 2534 397 2845 478 \nQ 3156 559 3463 722 \nL 3463 178 \nQ 3153 47 2828 -22 \nQ 2503 -91 2169 -91 \nQ 1331 -91 842 396 \nQ 353 884 353 1716 \nQ 353 2575 817 3079 \nQ 1281 3584 2069 3584 \nQ 2775 3584 3186 3129 \nQ 3597 2675 3597 1894 \nz\nM 3022 2063 \nQ 3016 2534 2758 2815 \nQ 2500 3097 2075 3097 \nQ 1594 3097 1305 2825 \nQ 1016 2553 972 2059 \nL 3022 2063 \nz\n\" id=\"DejaVuSans-65\" transform=\"scale(0.015625)\"/>\n      <path id=\"DejaVuSans-20\" transform=\"scale(0.015625)\"/>\n      <path d=\"M 794 531 \nL 1825 531 \nL 1825 4091 \nL 703 3866 \nL 703 4441 \nL 1819 4666 \nL 2450 4666 \nL 2450 531 \nL 3481 531 \nL 3481 0 \nL 794 0 \nL 794 531 \nz\n\" id=\"DejaVuSans-31\" transform=\"scale(0.015625)\"/>\n     </defs>\n     <use xlink:href=\"#DejaVuSans-49\"/>\n     <use x=\"29.492188\" xlink:href=\"#DejaVuSans-6d\"/>\n     <use x=\"126.904297\" xlink:href=\"#DejaVuSans-61\"/>\n     <use x=\"188.183594\" xlink:href=\"#DejaVuSans-67\"/>\n     <use x=\"251.660156\" xlink:href=\"#DejaVuSans-65\"/>\n     <use x=\"313.183594\" xlink:href=\"#DejaVuSans-20\"/>\n     <use x=\"344.970703\" xlink:href=\"#DejaVuSans-31\"/>\n    </g>\n   </g>\n  </g>\n  <g id=\"axes_2\">\n   <g clip-path=\"url(#p09f20dfb80)\">\n    <image height=\"153\" id=\"imageda67e8ef4f\" transform=\"scale(1 -1)translate(0 -153)\" width=\"153\" x=\"189.818182\" xlink:href=\"data:image/png;base64,\niVBORw0KGgoAAAANSUhEUgAAAJkAAACZCAYAAAA8XJi6AAAE20lEQVR4nO3dsSvtfxzH8e9x8CcogzIpBhLDUWc5ijqDKJs6RQblZFAnMZgMDIazGAwYlZgYlOEsBgPJoiOpwwmDU4RFKXe46lf38z76+p3zOuc4no/x1SfnffXy7nvu9+sIdHd3f3j/OD4+/jcC/reacg+A6kfJIEfJIEfJIFfb1tbmhJlMxjycy+XE46AasckgR8kgR8kgR8kgR8kgF/A8z7mttLS0ZB7u6Ohwsmg0WvShqkVNjf0z3NLS4mTpdFo9TtmwySBHySBHySBHySBXa4Wzs7Pm4cXFRSfLZrPm2aampgLGqg7BYNDMe3p6nIwLf6AAlAxylAxylAxylAxy5m2l73h+fjbz+fl532c3NjYKGaFi1daab969WCzmZNX6PfA8NhlKgJJBjpJBjpJBzr4y/YbW1lYzD4fDTvb6+mqetZ5Tu76+Ns8+PT35Hw4VgU0GOUoGOUoGOUoGOUoGuYJvK+WTSqWcLBKJmGf7+/udrLe31zyb74HKSrS/v2/m4+PjTnZ7e6sep2zYZJCjZJCjZJCjZJCTXfhb5ubmzNz6Lah8Njc3nWxyctI8+/j46PvrKnx82N/aQCBQ4knKi00GOUoGOUoGOUoGOUoGuZK+uyyG+vp6J9vZ2THPXlxcOFkikSj6TPnw7vIvNhnkKBnkKBnkKBnkftyF/3eEQiFfmed5XjKZLOi14vG4k62srBT0NasFmwxylAxylAxylAxylAxyBX8WRiU7OjrylXke7w6V2GSQo2SQo2SQo2SQq+oL/+84Pz93MuvCP98fnG1vby/6TNWCTQY5SgY5SgY5SgY5Sga5qn5oUWF3d9fM7+7unGxiYkI9zo/AJoMcJYMcJYMcJYMct5W+6ebmxsyz2WyJJ/k52GSQo2SQo2SQo2SQo2SQ47bSN52dnZm59deH+RC8v9hkkKNkkKNkkKNkkOO2klBra6uZDw8PO1m+T/CuBmwyyFEyyFEyyFEyyPE//l/o6uryffbk5MT32Vgs5mRvb2/m2a2tLd9ft1KxySBHySBHySBHySBHySDHu8svqN5dWsLhsJnncjknS6fTBb1WqbHJIEfJIEfJIEfJIMfzZF8YGRlxsnyffl2oq6srM5+ZmXGy6elpyQwqbDLIUTLIUTLIUTLIUTLIcVvpU0NDg5Otra052cDAQCnG+dLy8rKZJxKJEk/iD5sMcpQMcpQMcpQMclz4f1pdXXWySv2zNc3NzWaeTCadbGhoSDqLH2wyyFEyyFEyyFEyyFEyyPHQ4qeXl5dyj+BbJpMx82Aw6GSNjY3m2fv7+2KO9CU2GeQoGeQoGeQoGeS48P+U77eFfpLBwUEnW19fN8+Ojo6Kp/kPmwxylAxylAxylAxylAxyv+6hxampKTM/PT11ssPDQ/U4ZZNKpZwsEolIXotNBjlKBjlKBjlKBrlfd+H/8WH/cwOBQIknKa++vj4nu7y8NM/me37NLzYZ5CgZ5CgZ5CgZ5CgZ5Kr6ocWxsTEnq6urK8Mklefg4MDJrO+X53new8ODk+3t7fl+LTYZ5CgZ5CgZ5CgZ5Kriwn97e9vMrdsh7+/v4ml+ro2NDTOPx+NOFgqFzLOdnZ1OxiaDHCWDHCWDHCWDHCWD3K97aBHFEY1GzXxhYcHJ2GSQo2SQo2SQo2SQ+wONC+fYAqUClAAAAABJRU5ErkJggg==\" y=\"-21.499943\"/>\n   </g>\n   <g id=\"text_2\">\n    <!-- Image 2 -->\n    <g transform=\"translate(241.392528 16.318125)scale(0.12 -0.12)\">\n     <defs>\n      <path d=\"M 1228 531 \nL 3431 531 \nL 3431 0 \nL 469 0 \nL 469 531 \nQ 828 903 1448 1529 \nQ 2069 2156 2228 2338 \nQ 2531 2678 2651 2914 \nQ 2772 3150 2772 3378 \nQ 2772 3750 2511 3984 \nQ 2250 4219 1831 4219 \nQ 1534 4219 1204 4116 \nQ 875 4013 500 3803 \nL 500 4441 \nQ 881 4594 1212 4672 \nQ 1544 4750 1819 4750 \nQ 2544 4750 2975 4387 \nQ 3406 4025 3406 3419 \nQ 3406 3131 3298 2873 \nQ 3191 2616 2906 2266 \nQ 2828 2175 2409 1742 \nQ 1991 1309 1228 531 \nz\n\" id=\"DejaVuSans-32\" transform=\"scale(0.015625)\"/>\n     </defs>\n     <use xlink:href=\"#DejaVuSans-49\"/>\n     <use x=\"29.492188\" xlink:href=\"#DejaVuSans-6d\"/>\n     <use x=\"126.904297\" xlink:href=\"#DejaVuSans-61\"/>\n     <use x=\"188.183594\" xlink:href=\"#DejaVuSans-67\"/>\n     <use x=\"251.660156\" xlink:href=\"#DejaVuSans-65\"/>\n     <use x=\"313.183594\" xlink:href=\"#DejaVuSans-20\"/>\n     <use x=\"344.970703\" xlink:href=\"#DejaVuSans-32\"/>\n    </g>\n   </g>\n  </g>\n </g>\n <defs>\n  <clipPath id=\"p25d5247e1d\">\n   <rect height=\"152.181818\" width=\"152.181818\" x=\"7.2\" y=\"22.318125\"/>\n  </clipPath>\n  <clipPath id=\"p09f20dfb80\">\n   <rect height=\"152.181818\" width=\"152.181818\" x=\"189.818182\" y=\"22.318125\"/>\n  </clipPath>\n </defs>\n</svg>\n",
            "image/png": "[encoded data removed]"
          },
          "metadata": {
            "needs_background": "light"
          }
        }
      ],
      "metadata": {}
    },
    {
      "cell_type": "code",
      "execution_count": 36,
      "source": [
        "# Check no. of images in each class\n",
        "items_count_dict = {}\n",
        "for folder in os.listdir(base_folder):\n",
        "    items = os.listdir(os.path.join(base_folder, folder))\n",
        "    items_count_dict[folder] = len(items)\n",
        "\n",
        "sorted_items = sorted(items_count_dict.items(), key=lambda x:x[1])\n",
        "items_count_dict_sorted = dict(sorted_items)\n",
        "items_count_dict_sorted.items()"
      ],
      "outputs": [
        {
          "output_type": "execute_result",
          "data": {
            "text/plain": [
              "dict_items([('div', 868), ('7', 2909), ('8', 3068), ('6', 3118), ('times', 3251), ('5', 3545), ('9', 3737), ('0', 6914), ('4', 7396), ('3', 10909), ('=', 13104), ('+', 25112), ('2', 26141), ('1', 26520), ('-', 33997)])"
            ]
          },
          "metadata": {},
          "execution_count": 36
        }
      ],
      "metadata": {}
    },
    {
      "cell_type": "code",
      "execution_count": 41,
      "source": [
        "# To keep the sample size limited, we take <4000 images randomly for each class.\n",
        "threshold = 4000"
      ],
      "outputs": [],
      "metadata": {}
    },
    {
      "cell_type": "code",
      "execution_count": 42,
      "source": [
        "items_count_dict = {}\n",
        "\n",
        "# Iterate over all classes folders\n",
        "for folder in os.listdir(base_folder):\n",
        "    folder_path = os.path.join(base_folder, folder)\n",
        "    \n",
        "    # fetch filenames in the class folder\n",
        "    items = os.listdir(folder_path)\n",
        "    \n",
        "    # vars for bookeeping\n",
        "    items_orig_len = len(items)\n",
        "    deleted_files_len = 0\n",
        "\n",
        "    if len(items) > threshold:\n",
        "        # Fetch random filenames upto threshold from all filenames\n",
        "        random_files = random.sample(items, threshold)\n",
        "        # Take difference of filenames to be deleted\n",
        "        to_delete_files = set(items) - set(random_files)\n",
        "        \n",
        "        # vars for bookeeping\n",
        "        deleted_files_len = len(to_delete_files)\n",
        "        # Delete files (not selected in random sampling)\n",
        "        for item in to_delete_files:\n",
        "            os.remove(os.path.join(folder_path, item))\n",
        "\n",
        "\n",
        "    # fetch filenames in the class folder again\n",
        "    items = os.listdir(folder_path)\n",
        "    # Print resultant metric for the class folder\n",
        "    print(folder, items_orig_len, deleted_files_len, len(items))\n",
        "\n",
        "    # Add items len in the dict\n",
        "    items_count_dict[folder] = len(items)\n",
        "\n",
        "# Print the dictionary with len of items in each class folder\n",
        "print(items_count_dict.items())"
      ],
      "outputs": [
        {
          "output_type": "stream",
          "name": "stdout",
          "text": [
            "div 868 0 868\n",
            "times 3251 0 3251\n",
            "9 3737 0 3737\n",
            "0 4000 0 4000\n",
            "7 2909 0 2909\n",
            "+ 4000 0 4000\n",
            "6 3118 0 3118\n",
            "1 4000 0 4000\n",
            "8 3068 0 3068\n",
            "- 4000 0 4000\n",
            "= 4000 0 4000\n",
            "4 4000 0 4000\n",
            "3 4000 0 4000\n",
            "2 4000 0 4000\n",
            "5 3545 0 3545\n",
            "dict_items([('div', 868), ('times', 3251), ('9', 3737), ('0', 4000), ('7', 2909), ('+', 4000), ('6', 3118), ('1', 4000), ('8', 3068), ('-', 4000), ('=', 4000), ('4', 4000), ('3', 4000), ('2', 4000), ('5', 3545)])\n"
          ]
        }
      ],
      "metadata": {}
    },
    {
      "cell_type": "code",
      "execution_count": null,
      "source": [],
      "outputs": [],
      "metadata": {}
    }
  ]
}