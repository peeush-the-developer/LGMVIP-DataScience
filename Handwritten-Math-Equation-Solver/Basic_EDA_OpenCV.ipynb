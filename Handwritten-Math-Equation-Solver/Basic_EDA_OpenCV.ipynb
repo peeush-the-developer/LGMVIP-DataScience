{
 "cells": [
  {
   "cell_type": "markdown",
   "metadata": {
    "colab_type": "text",
    "id": "view-in-github"
   },
   "source": [
    "<a href=\"https://colab.research.google.com/github/peeush-the-developer/LGMVIP-DataScience/blob/main/Handwritten-Math-Equation-Solver/1_CNN_model.ipynb\" target=\"_parent\"><img src=\"https://colab.research.google.com/assets/colab-badge.svg\" alt=\"Open In Colab\"/></a>"
   ]
  },
  {
   "cell_type": "markdown",
   "metadata": {
    "id": "WMUG1_A98gSw"
   },
   "source": [
    "# Handwritten Math Equation solver\n",
    "\n",
    "We can approach this problem statement in the following steps:\n",
    "\n",
    "1. We are given a dataset of images for different Math symbols using which we can train our Image classification model to classify images as math symbols.\n",
    "2. Next, we take an image with complete math equation and try to segregate each symbol into smaller images\n",
    "3. Pass these smaller images to find the actual symbol and then solve the equation as a normal math equation.\n",
    "\n",
    "Easy huh!\n",
    "\n",
    "Let's get started!"
   ]
  },
  {
   "cell_type": "markdown",
   "metadata": {},
   "source": [
    "## Download the dataset with math symbol images\n",
    "\n",
    "This is the [Dataset link](https://www.kaggle.com/xainano/handwrittenmathsymbols) which contains `data.rar` file and unzip the file after downloading.\n",
    "\n",
    "The dataset contains different images for each math symbol as well as alphanumeric characters."
   ]
  },
  {
   "cell_type": "markdown",
   "metadata": {},
   "source": [
    "In this notebook, we'll get familarize with the dataset.\n",
    "\n",
    "Understand the folder structure and plot random images to get basic understanding about the images."
   ]
  },
  {
   "cell_type": "code",
   "execution_count": 1,
   "metadata": {
    "id": "QtAQxNZn8X-C"
   },
   "outputs": [],
   "source": [
    "# Import libraries\n",
    "import os\n",
    "import random\n",
    "\n",
    "import numpy as np\n",
    "import cv2\n",
    "\n",
    "import matplotlib.pyplot as plt\n",
    "%matplotlib inline"
   ]
  },
  {
   "cell_type": "code",
   "execution_count": 2,
   "metadata": {},
   "outputs": [
    {
     "data": {
      "text/plain": [
       "'4.5.0'"
      ]
     },
     "execution_count": 2,
     "metadata": {},
     "output_type": "execute_result"
    }
   ],
   "source": [
    "cv2.__version__"
   ]
  },
  {
   "cell_type": "code",
   "execution_count": 3,
   "metadata": {},
   "outputs": [],
   "source": [
    "input_folder = 'data/input_images'"
   ]
  },
  {
   "cell_type": "markdown",
   "metadata": {},
   "source": [
    "For simplicity of the notebook, we have extracted images only for 0-9 numeric digits and operations, '=', '+', '-', 'div', 'times'."
   ]
  },
  {
   "cell_type": "code",
   "execution_count": 4,
   "metadata": {},
   "outputs": [
    {
     "name": "stdout",
     "output_type": "stream",
     "text": [
      "['+', '-', '.DS_Store', '0', '1', '2', '3', '4', '5', '6', '7', '8', '9', '=', 'div', 'times']\n"
     ]
    }
   ],
   "source": [
    "folder_names = [folder for folder in os.listdir(input_folder)]\n",
    "print(sorted(folder_names))"
   ]
  },
  {
   "cell_type": "code",
   "execution_count": 5,
   "metadata": {},
   "outputs": [],
   "source": [
    "base_folder = os.path.join('data', 'input_images')"
   ]
  },
  {
   "cell_type": "code",
   "execution_count": 6,
   "metadata": {},
   "outputs": [],
   "source": [
    "def load_image_random(folder_name):\n",
    "    '''\n",
    "    Random image from the specified folder\n",
    "\n",
    "    Arguments:\n",
    "      folder_name: Specific folder name from which the image is picked\n",
    "\n",
    "    Returns:\n",
    "      Image in grayscale in the form of Numpy 2D array\n",
    "    '''\n",
    "    folder = os.path.join(base_folder, folder_name)\n",
    "    # print(folder)\n",
    "    img_files = os.listdir(folder)\n",
    "    rand_index = np.random.randint(len(img_files))\n",
    "    # print(rand_int, img_files[rand_index])\n",
    "    img = cv2.imread(os.path.join(folder, img_files[rand_index]))\n",
    "    img = cv2.cvtColor(img, cv2.COLOR_BGR2GRAY)\n",
    "    return img, rand_index"
   ]
  },
  {
   "cell_type": "code",
   "execution_count": 7,
   "metadata": {},
   "outputs": [],
   "source": [
    "def display_image(imgray):\n",
    "    '''\n",
    "    Plot an image\n",
    "\n",
    "    Arguments:\n",
    "      imgray: Image in grayscale i.e. Numpy 2D array\n",
    "    '''\n",
    "    plt.imshow(imgray, cmap='gray')\n",
    "    plt.axis('off')\n",
    "    plt.show()"
   ]
  },
  {
   "cell_type": "code",
   "execution_count": 8,
   "metadata": {},
   "outputs": [],
   "source": [
    "def display_image_grid(imgray1, imgray2):\n",
    "    '''\n",
    "    Plot an image grid with 2 images\n",
    "\n",
    "    Arguments:\n",
    "      imgray1: Image in grayscale i.e. Numpy 2D array\n",
    "      imgray2: Image in grayscale i.e. Numpy 2D array\n",
    "    '''\n",
    "    plt.subplot(121)\n",
    "    plt.imshow(imgray1, cmap='gray')\n",
    "    plt.axis('off')\n",
    "    plt.title(\"Image 1\")\n",
    "    \n",
    "    plt.subplot(122)\n",
    "    plt.imshow(imgray2, cmap='gray')\n",
    "    plt.axis('off')\n",
    "    plt.title(\"Image 2\")\n",
    "    \n",
    "    plt.show()"
   ]
  },
  {
   "cell_type": "code",
   "execution_count": 9,
   "metadata": {},
   "outputs": [],
   "source": [
    "def resize_image(imgray, resize=(28,28)):\n",
    "    '''\n",
    "    Resize the image by finding contours around the math symbol and then resize it to 28x28 shape\n",
    "\n",
    "    Arguments:\n",
    "      imgray: Image in grayscale\n",
    "\n",
    "    Returns:\n",
    "      Resized image of 28x28 shape\n",
    "    '''\n",
    "    ret, thresh = cv2.threshold(imgray, 127, 255, cv2.THRESH_BINARY)\n",
    "    contours, hierarchy = cv2.findContours(thresh, cv2.RETR_EXTERNAL, cv2.CHAIN_APPROX_NONE)\n",
    "    # contours, hierarchy = cv2.findContours(thresh, cv2.RETR_TREE, cv2.CHAIN_APPROX_SIMPLE)\n",
    "    # print('Number of contours:', len(contours))\n",
    "    # print(hierarchy.shape)\n",
    "    cnt = sorted(contours, key = lambda ctr: cv2.boundingRect(ctr)[0])\n",
    "    w, h = resize\n",
    "    max_size = 0\n",
    "    for c in cnt:\n",
    "        x, y, w, h = cv2.boundingRect(c)\n",
    "        # print(x, y, w, h)\n",
    "        max_size = max(w*h, max_size)\n",
    "        if max_size == w*h:\n",
    "            x_max = x\n",
    "            y_max = y\n",
    "            w_max = w\n",
    "            h_max = h\n",
    "    cropped_img = thresh[y_max:y_max+h_max+10, x_max:x_max+w_max+10]\n",
    "    resized_img = cv2.resize(cropped_img, resize)\n",
    "    # print(imgray.shape)\n",
    "    # print(resized_img.shape)\n",
    "    # resized_img=np.reshape(resized_img,(784,1))\n",
    "    return resized_img"
   ]
  },
  {
   "cell_type": "code",
   "execution_count": 10,
   "metadata": {},
   "outputs": [],
   "source": [
    "def display_result(folder_name):\n",
    "    imgray, index = load_image_random(folder_name)\n",
    "    print('Image at index', index, ' in', folder_name, 'is:')\n",
    "    img_bb = resize_image(~imgray)\n",
    "    display_image_grid(~imgray, img_bb)\n",
    "    # display_image(imgray)\n",
    "    # display_image(img_bb)"
   ]
  },
  {
   "cell_type": "code",
   "execution_count": 11,
   "metadata": {},
   "outputs": [
    {
     "name": "stdout",
     "output_type": "stream",
     "text": [
      "Image at index 700  in 0 is:\n"
     ]
    },
    {
     "data": {
      "image/png": "[encoded data removed]",
      "text/plain": [
       "<Figure size 432x288 with 2 Axes>"
      ]
     },
     "metadata": {
      "needs_background": "light"
     },
     "output_type": "display_data"
    }
   ],
   "source": [
    "display_result('0')"
   ]
  },
  {
   "cell_type": "code",
   "execution_count": 12,
   "metadata": {},
   "outputs": [
    {
     "name": "stdout",
     "output_type": "stream",
     "text": [
      "Image at index 1010  in times is:\n"
     ]
    },
    {
     "data": {
      "image/png": "[encoded data removed]",
      "text/plain": [
       "<Figure size 432x288 with 2 Axes>"
      ]
     },
     "metadata": {
      "needs_background": "light"
     },
     "output_type": "display_data"
    }
   ],
   "source": [
    "display_result('times')"
   ]
  },
  {
   "cell_type": "code",
   "execution_count": 16,
   "metadata": {},
   "outputs": [
    {
     "name": "stdout",
     "output_type": "stream",
     "text": [
      "data/input_images\n",
      "['.DS_Store', 'div', 'times', '9', '0', '7', '+', '6', '1', '8', '-', '=', '4', '3', '2', '5']\n"
     ]
    },
    {
     "data": {
      "text/plain": [
       "False"
      ]
     },
     "execution_count": 16,
     "metadata": {},
     "output_type": "execute_result"
    }
   ],
   "source": [
    "print(base_folder)\n",
    "print(os.listdir(base_folder))\n",
    "ds_store = os.path.join(base_folder, '.DS_Store')\n",
    "os.path.isdir(ds_store)"
   ]
  },
  {
   "cell_type": "code",
   "execution_count": 18,
   "metadata": {},
   "outputs": [
    {
     "data": {
      "text/plain": [
       "dict_items([('div', 868), ('7', 2909), ('8', 3068), ('6', 3118), ('times', 3251), ('5', 3545), ('9', 3737), ('0', 6914), ('4', 7396), ('3', 10909), ('=', 13104), ('+', 25112), ('2', 26141), ('1', 26520), ('-', 33997)])"
      ]
     },
     "execution_count": 18,
     "metadata": {},
     "output_type": "execute_result"
    }
   ],
   "source": [
    "# Check no. of images in each class\n",
    "items_count_dict = {}\n",
    "for folder in os.listdir(base_folder):\n",
    "    folder_path = os.path.join(base_folder, folder)\n",
    "    if not os.path.isdir(folder_path):\n",
    "        continue\n",
    "    items = os.listdir(folder_path)\n",
    "    items_count_dict[folder] = len(items)\n",
    "\n",
    "sorted_items = sorted(items_count_dict.items(), key=lambda x:x[1])\n",
    "items_count_dict_sorted = dict(sorted_items)\n",
    "items_count_dict_sorted.items()"
   ]
  },
  {
   "cell_type": "code",
   "execution_count": 19,
   "metadata": {},
   "outputs": [],
   "source": [
    "# To keep the sample size limited, we take <4000 images randomly for each class.\n",
    "threshold = 4000"
   ]
  },
  {
   "cell_type": "code",
   "execution_count": 20,
   "metadata": {},
   "outputs": [
    {
     "name": "stdout",
     "output_type": "stream",
     "text": [
      "div 868 0 868\n",
      "times 3251 0 3251\n",
      "9 3737 0 3737\n",
      "0 6914 2914 4000\n",
      "7 2909 0 2909\n",
      "+ 25112 21112 4000\n",
      "6 3118 0 3118\n",
      "1 26520 22520 4000\n",
      "8 3068 0 3068\n",
      "- 33997 29997 4000\n",
      "= 13104 9104 4000\n",
      "4 7396 3396 4000\n",
      "3 10909 6909 4000\n",
      "2 26141 22141 4000\n",
      "5 3545 0 3545\n",
      "dict_items([('div', 868), ('times', 3251), ('9', 3737), ('0', 4000), ('7', 2909), ('+', 4000), ('6', 3118), ('1', 4000), ('8', 3068), ('-', 4000), ('=', 4000), ('4', 4000), ('3', 4000), ('2', 4000), ('5', 3545)])\n"
     ]
    }
   ],
   "source": [
    "items_count_dict = {}\n",
    "\n",
    "# Iterate over all classes folders\n",
    "for folder in os.listdir(base_folder):\n",
    "    folder_path = os.path.join(base_folder, folder)\n",
    "    if not os.path.isdir(folder_path):\n",
    "        continue\n",
    "\n",
    "    # fetch filenames in the class folder\n",
    "    items = os.listdir(folder_path)\n",
    "    \n",
    "    # vars for bookeeping\n",
    "    items_orig_len = len(items)\n",
    "    deleted_files_len = 0\n",
    "\n",
    "    if len(items) > threshold:\n",
    "        # Fetch random filenames upto threshold from all filenames\n",
    "        random_files = random.sample(items, threshold)\n",
    "        # Take difference of filenames to be deleted\n",
    "        to_delete_files = set(items) - set(random_files)\n",
    "        \n",
    "        # vars for bookeeping\n",
    "        deleted_files_len = len(to_delete_files)\n",
    "        # Delete files (not selected in random sampling)\n",
    "        for item in to_delete_files:\n",
    "            os.remove(os.path.join(folder_path, item))\n",
    "\n",
    "\n",
    "    # fetch filenames in the class folder again\n",
    "    items = os.listdir(folder_path)\n",
    "    # Print resultant metric for the class folder\n",
    "    print(folder, items_orig_len, deleted_files_len, len(items))\n",
    "\n",
    "    # Add items len in the dict\n",
    "    items_count_dict[folder] = len(items)\n",
    "\n",
    "# Print the dictionary with len of items in each class folder\n",
    "print(items_count_dict.items())"
   ]
  },
  {
   "cell_type": "code",
   "execution_count": null,
   "metadata": {},
   "outputs": [],
   "source": []
  }
 ],
 "metadata": {
  "colab": {
   "authorship_tag": "ABX9TyO9vhYDpIGtie6mG0lieaAO",
   "include_colab_link": true,
   "name": "Handwritten_Math_Eqn_Solver.ipynb",
   "provenance": []
  },
  "interpreter": {
   "hash": "dccdfb7cdb727d49639f6c92e3eac374fc598b95046d2744ef8496f8c9ef8c8a"
  },
  "kernelspec": {
   "display_name": "Python 3.8.6 64-bit ('pyimgsearch-env': conda)",
   "language": "python",
   "name": "python386jvsc74a57bd0dccdfb7cdb727d49639f6c92e3eac374fc598b95046d2744ef8496f8c9ef8c8a"
  },
  "language_info": {
   "codemirror_mode": {
    "name": "ipython",
    "version": 3
   },
   "file_extension": ".py",
   "mimetype": "text/x-python",
   "name": "python",
   "nbconvert_exporter": "python",
   "pygments_lexer": "ipython3",
   "version": "3.8.6"
  }
 },
 "nbformat": 4,
 "nbformat_minor": 2
}
