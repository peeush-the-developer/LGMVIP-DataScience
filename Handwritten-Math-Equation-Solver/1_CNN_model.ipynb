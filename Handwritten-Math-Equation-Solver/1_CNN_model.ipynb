{
  "nbformat": 4,
  "nbformat_minor": 0,
  "metadata": {
    "colab": {
      "name": "Handwritten_Math_Eqn_Solver.ipynb",
      "provenance": [],
      "authorship_tag": "ABX9TyO9vhYDpIGtie6mG0lieaAO",
      "include_colab_link": true
    },
    "kernelspec": {
      "name": "python3",
      "display_name": "Python 3"
    },
    "language_info": {
      "name": "python"
    }
  },
  "cells": [
    {
      "cell_type": "markdown",
      "metadata": {
        "id": "view-in-github",
        "colab_type": "text"
      },
      "source": [
        "<a href=\"https://colab.research.google.com/github/peeush-the-developer/LGMVIP-DataScience/blob/main/Handwritten-Math-Equation-Solver/1_CNN_model.ipynb\" target=\"_parent\"><img src=\"https://colab.research.google.com/assets/colab-badge.svg\" alt=\"Open In Colab\"/></a>"
      ]
    },
    {
      "cell_type": "markdown",
      "metadata": {
        "id": "WMUG1_A98gSw"
      },
      "source": [
        "# Handwritten Math Equation solver\n",
        "\n",
        "We can approach this problem statement in the following steps:\n",
        "\n",
        "1. We are given a dataset of images for different Math symbols using which we can train our Image classification model to classify images as math symbols.\n",
        "2. Now, we take an image with complete math equation and try to segregate each symbol into smaller images\n",
        "3. Pass these smaller images to find the actual symbol and then solve the equation as a normal math equation.\n",
        "\n",
        "It looks easy with the problem divided into above steps. \n",
        "\n",
        "Let's get started!"
      ]
    },
    {
      "cell_type": "markdown",
      "metadata": {
        "id": "oNrNmREz9_U2"
      },
      "source": [
        "## Train a CNN model to classify given image into Math symbol\n",
        "\n",
        "1. Download the dataset with math symbol images\n",
        "2. Train a CNN model to classify them into Math symbol\n",
        "3. Evaluate the model"
      ]
    },
    {
      "cell_type": "markdown",
      "metadata": {
        "id": "uKlUFIgU-hlb"
      },
      "source": [
        "### 1. Download the dataset with math symbol images\n",
        "\n",
        "[Dataset link]()"
      ]
    },
    {
      "cell_type": "code",
      "metadata": {
        "id": "QtAQxNZn8X-C"
      },
      "source": [
        ""
      ],
      "execution_count": null,
      "outputs": []
    }
  ]
}